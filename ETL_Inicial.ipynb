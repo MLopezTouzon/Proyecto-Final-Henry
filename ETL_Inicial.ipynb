{
 "cells": [
  {
   "cell_type": "code",
   "execution_count": 1,
   "metadata": {},
   "outputs": [],
   "source": [
    "import pandas as pd\n",
    "import numpy as np\n",
    "import warnings\n",
    "import pyarrow.parquet as pq\n",
    "\n",
    "warnings.filterwarnings(\"ignore\")\n"
   ]
  },
  {
   "cell_type": "markdown",
   "metadata": {},
   "source": [
    "DATASET VEHICULOS ELECTRICOS"
   ]
  },
  {
   "cell_type": "code",
   "execution_count": 4,
   "metadata": {},
   "outputs": [],
   "source": [
    "# Abre Dataset de vehiculos electricos\n",
    "electricos=pd.read_csv(\"DataSetCrudos/autos electricos.csv\")"
   ]
  },
  {
   "cell_type": "code",
   "execution_count": 5,
   "metadata": {},
   "outputs": [],
   "source": [
    "# Crea una lista de nombres de columnas originales del DataFrame \"electricos\"\n",
    "viejas_columnas = list(electricos.columns)\n",
    "\n",
    "# Asigna nuevas columnas al DataFrame \"electricos\" con nombres más descriptivos\n",
    "electricos[\"model year\"] = electricos[\"Model year\"]\n",
    "electricos[\"fabricante\"] = electricos[\"Make\"]\n",
    "electricos[\"modelo\"] = electricos[\"Model\"]\n",
    "electricos[\"tipo de vehiculo\"] = electricos[\"Vehicle class\"]\n",
    "electricos[\"combustible\"] = electricos[\"Fuel type\"]\n",
    "electricos[\"Ciudad(Le/100 km)\"] = electricos[\"City (Le/100 km)\"]\n",
    "electricos[\"Carretera(Le/100 km)\"] = electricos[\"Highway (Le/100 km)\"]\n",
    "electricos[\"Combinado(Le/100 km)\"] = electricos[\"Combined (Le/100 km)\"]\n",
    "electricos[\"rango(km)\"] = electricos[\"Range (km)\"]\n",
    "electricos[\"emision de CO2(g/km)\"] = electricos[\"CO2 emissions (g/km)\"]\n",
    "electricos[\"calificacion de co2\"] = electricos[\"CO2 rating \"]\n",
    "electricos[\"calificacion por escape\"] = electricos[\"Smog rating\"]\n",
    "electricos[\"tiempo de recarga(h)\"] = electricos[\"Recharge time (h)\"]\n",
    "\n",
    "# Elimina las columnas originales del DataFrame \"electricos\" excepto \"Motor (kW)\"\n",
    "# removiendo de la lista \"viejas_columnas\" la columna \"Motor (kW)\" para no ser eliminada\n",
    "viejas_columnas.remove(\"Motor (kW)\")\n",
    "electricos.drop(columns=viejas_columnas, inplace=True)"
   ]
  },
  {
   "cell_type": "code",
   "execution_count": 6,
   "metadata": {},
   "outputs": [],
   "source": [
    "# Crea una máscara booleana para seleccionar filas en las que el año del modelo sea menor que 2020 o igual a 2024\n",
    "mask = (electricos[\"model year\"] < 2020) | (electricos[\"model year\"] == 2024)\n",
    "\n",
    "# Elimina las filas del DataFrame \"electricos\" que cumplan con la condición de la máscara\n",
    "electricos.drop(electricos[mask].index, inplace=True)"
   ]
  },
  {
   "cell_type": "code",
   "execution_count": 7,
   "metadata": {},
   "outputs": [],
   "source": [
    "# Obtiene una lista de los tipos de vehículos únicos presentes en la columna \"tipo de vehiculo\"\n",
    "tipos_electricos = list(electricos[\"tipo de vehiculo\"].unique())"
   ]
  },
  {
   "cell_type": "code",
   "execution_count": 8,
   "metadata": {},
   "outputs": [],
   "source": [
    "# Selecciona las columnas \"tipo de vehiculo\" y \"Ciudad(Le/100 km)\" del DataFrame \"electricos\",\n",
    "# luego agrupa los datos por el tipo de vehículo y calcula la media de la columna \"Ciudad(Le/100 km)\",\n",
    "# reinicia los índices y ordena el DataFrame resultante en orden descendente según los valores de la columna \"Ciudad(Le/100 km)\"\n",
    "tab_ele = electricos[[\"tipo de vehiculo\", \"Ciudad(Le/100 km)\"]].groupby(\"tipo de vehiculo\").agg({\"Ciudad(Le/100 km)\": \"mean\"}).reset_index().sort_values(by=\"Ciudad(Le/100 km)\", ascending=False)"
   ]
  },
  {
   "cell_type": "code",
   "execution_count": 9,
   "metadata": {},
   "outputs": [],
   "source": [
    "# Se crea una nueva columna llamada \"electrico (ciudad)\" en el DataFrame \"tab_ele\",\n",
    "# asignándole los valores de la columna \"Ciudad(Le/100 km)\"\n",
    "tab_ele[\"electrico (ciudad)\"] = tab_ele[\"Ciudad(Le/100 km)\"]\n",
    "\n",
    "# Se elimina la columna original \"Ciudad(Le/100 km)\" del DataFrame \"tab_ele\"\n",
    "tab_ele.drop(columns=[\"Ciudad(Le/100 km)\"], inplace=True)"
   ]
  },
  {
   "cell_type": "code",
   "execution_count": 10,
   "metadata": {},
   "outputs": [],
   "source": [
    "# Guarda el DataFrame \"electricos\" en un archivo CSV con el nombre \"vehiculos electricos.csv\"\n",
    "electricos.to_csv(\"vehiculos electricos.csv\")\n"
   ]
  },
  {
   "cell_type": "markdown",
   "metadata": {},
   "source": [
    "DATASET VEHICULOS CONVENCIONALES"
   ]
  },
  {
   "cell_type": "code",
   "execution_count": 11,
   "metadata": {},
   "outputs": [],
   "source": [
    "# Lee el archivo CSV \"convencional.csv\"\n",
    "convencional=pd.read_csv(\"DataSetCrudos\\convencional.csv\",encoding=\"latin1\")"
   ]
  },
  {
   "cell_type": "code",
   "execution_count": 13,
   "metadata": {},
   "outputs": [],
   "source": [
    "# Crea una lista de los nombres de las columnas originales del DataFrame \"convencional\"\n",
    "viejas_columnas = list(convencional.columns)\n",
    "\n",
    "# Asigna nuevas columnas al DataFrame \"convencional\" con nombres más descriptivos\n",
    "convencional[\"model year\"] = convencional[\"Model year\"]\n",
    "convencional[\"fabricante\"] = convencional[\"Make\"]\n",
    "convencional[\"modelo\"] = convencional[\"Model\"]\n",
    "convencional[\"tipo de vehiculo\"] = convencional[\"Vehicle class\"]\n",
    "convencional[\"combustible\"] = convencional[\"Fuel type\"]\n",
    "convencional[\"Ciudad(L/100 km)\"] = convencional[\"City (L/100 km)\"]\n",
    "convencional[\"Carretera(L/100 km)\"] = convencional[\"Highway (L/100 km)\"]\n",
    "convencional[\"Combinado(L/100 km)\"] = convencional[\"Combined (L/100 km)\"]\n",
    "convencional[\"emision de CO2(g/km)\"] = convencional[\"CO2 emissions (g/km)\"]\n",
    "convencional[\"calificacion de co2\"] = convencional[\"CO2 rating\"]\n",
    "convencional[\"calificacion por escape\"] = convencional[\"Smog rating\"]\n",
    "\n",
    "# Elimina las columnas originales del DataFrame \"convencional\"\n",
    "convencional.drop(columns=viejas_columnas, inplace=True)"
   ]
  },
  {
   "cell_type": "code",
   "execution_count": 14,
   "metadata": {},
   "outputs": [
    {
     "data": {
      "text/html": [
       "<div>\n",
       "<style scoped>\n",
       "    .dataframe tbody tr th:only-of-type {\n",
       "        vertical-align: middle;\n",
       "    }\n",
       "\n",
       "    .dataframe tbody tr th {\n",
       "        vertical-align: top;\n",
       "    }\n",
       "\n",
       "    .dataframe thead th {\n",
       "        text-align: right;\n",
       "    }\n",
       "</style>\n",
       "<table border=\"1\" class=\"dataframe\">\n",
       "  <thead>\n",
       "    <tr style=\"text-align: right;\">\n",
       "      <th></th>\n",
       "      <th>combustible</th>\n",
       "      <th>cantidad</th>\n",
       "    </tr>\n",
       "  </thead>\n",
       "  <tbody>\n",
       "    <tr>\n",
       "      <th>0</th>\n",
       "      <td>D</td>\n",
       "      <td>115</td>\n",
       "    </tr>\n",
       "    <tr>\n",
       "      <th>1</th>\n",
       "      <td>E</td>\n",
       "      <td>72</td>\n",
       "    </tr>\n",
       "    <tr>\n",
       "      <th>2</th>\n",
       "      <td>X</td>\n",
       "      <td>2057</td>\n",
       "    </tr>\n",
       "    <tr>\n",
       "      <th>3</th>\n",
       "      <td>Z</td>\n",
       "      <td>2243</td>\n",
       "    </tr>\n",
       "  </tbody>\n",
       "</table>\n",
       "</div>"
      ],
      "text/plain": [
       "  combustible  cantidad\n",
       "0           D       115\n",
       "1           E        72\n",
       "2           X      2057\n",
       "3           Z      2243"
      ]
     },
     "execution_count": 14,
     "metadata": {},
     "output_type": "execute_result"
    }
   ],
   "source": [
    "# Selecciona la columna \"combustible\" del DataFrame \"convencional\", luego agrupa los datos por tipo de combustible\n",
    "# y cuenta la cantidad de registros para cada tipo de combustible\n",
    "tab = convencional[[\"combustible\"]].groupby(\"combustible\").agg({\"combustible\": \"count\"})\n",
    "\n",
    "# Crea una nueva columna llamada \"cantidad\" en el DataFrame \"tab\", que contiene la cantidad de registros para cada tipo de combustible\n",
    "tab[\"cantidad\"] = tab[\"combustible\"]\n",
    "\n",
    "# Elimina la columna original \"combustible\" del DataFrame \"tab\"\n",
    "tab.drop(columns=[\"combustible\"], inplace=True)\n",
    "\n",
    "# Reinicia los índices del DataFrame \"tab\"\n",
    "tab.reset_index()"
   ]
  },
  {
   "cell_type": "code",
   "execution_count": 15,
   "metadata": {},
   "outputs": [
    {
     "data": {
      "text/html": [
       "<div>\n",
       "<style scoped>\n",
       "    .dataframe tbody tr th:only-of-type {\n",
       "        vertical-align: middle;\n",
       "    }\n",
       "\n",
       "    .dataframe tbody tr th {\n",
       "        vertical-align: top;\n",
       "    }\n",
       "\n",
       "    .dataframe thead th {\n",
       "        text-align: right;\n",
       "    }\n",
       "</style>\n",
       "<table border=\"1\" class=\"dataframe\">\n",
       "  <thead>\n",
       "    <tr style=\"text-align: right;\">\n",
       "      <th></th>\n",
       "      <th>combustible</th>\n",
       "      <th>Ciudad(L/100 km)</th>\n",
       "    </tr>\n",
       "  </thead>\n",
       "  <tbody>\n",
       "    <tr>\n",
       "      <th>1</th>\n",
       "      <td>E</td>\n",
       "      <td>19.956944</td>\n",
       "    </tr>\n",
       "    <tr>\n",
       "      <th>3</th>\n",
       "      <td>Z</td>\n",
       "      <td>13.517789</td>\n",
       "    </tr>\n",
       "    <tr>\n",
       "      <th>0</th>\n",
       "      <td>D</td>\n",
       "      <td>11.215652</td>\n",
       "    </tr>\n",
       "    <tr>\n",
       "      <th>2</th>\n",
       "      <td>X</td>\n",
       "      <td>11.152552</td>\n",
       "    </tr>\n",
       "  </tbody>\n",
       "</table>\n",
       "</div>"
      ],
      "text/plain": [
       "  combustible  Ciudad(L/100 km)\n",
       "1           E         19.956944\n",
       "3           Z         13.517789\n",
       "0           D         11.215652\n",
       "2           X         11.152552"
      ]
     },
     "execution_count": 15,
     "metadata": {},
     "output_type": "execute_result"
    }
   ],
   "source": [
    "# Selecciona las columnas \"combustible\" y \"Ciudad(L/100 km)\" del DataFrame \"convencional\".\n",
    "# Luego, agrupa los datos por tipo de combustible y calcula la media de la columna \"Ciudad(L/100 km)\" para cada tipo.\n",
    "# Finalmente, reinicia los índices del DataFrame resultante y lo ordena en orden descendente según los valores de la columna \"Ciudad(L/100 km)\".\n",
    "tab = convencional[[\"combustible\", \"Ciudad(L/100 km)\"]].groupby(\"combustible\").agg({\"Ciudad(L/100 km)\": \"mean\"}).reset_index().sort_values(by=\"Ciudad(L/100 km)\", ascending=False)"
   ]
  },
  {
   "cell_type": "code",
   "execution_count": 16,
   "metadata": {},
   "outputs": [],
   "source": [
    "# Selecciona las columnas \"tipo de vehiculo\" y \"Ciudad(L/100 km)\" del DataFrame \"convencional\".\n",
    "# Luego, agrupa los datos por tipo de vehículo y calcula la media de la columna \"Ciudad(L/100 km)\" para cada tipo.\n",
    "# Finalmente, reinicia los índices del DataFrame resultante y lo ordena en orden descendente según los valores de la columna \"Ciudad(L/100 km)\".\n",
    "tab_conv=convencional[[\"tipo de vehiculo\",\"Ciudad(L/100 km)\"]].groupby(\"tipo de vehiculo\").agg({\"Ciudad(L/100 km)\":\"mean\"}).reset_index().sort_values(by=\"Ciudad(L/100 km)\",ascending=False)"
   ]
  },
  {
   "cell_type": "code",
   "execution_count": 17,
   "metadata": {},
   "outputs": [],
   "source": [
    "# Se crea una nueva columna llamada \"convencional (ciudad)\" en el DataFrame \"tab_conv\",\n",
    "# asignando los valores de la columna \"Ciudad(L/100 km)\"\n",
    "tab_conv[\"convencional (ciudad)\"] = tab_conv[\"Ciudad(L/100 km)\"]\n",
    "\n",
    "# Se elimina la columna original \"Ciudad(L/100 km)\" del DataFrame \"tab_conv\"\n",
    "tab_conv.drop(columns=[\"Ciudad(L/100 km)\"], inplace=True)"
   ]
  },
  {
   "cell_type": "code",
   "execution_count": 18,
   "metadata": {},
   "outputs": [],
   "source": [
    "# Guarda el DataFrame \"convencional\" en un archivo CSV con el nombre \"vehiculos de combustible convencional.csv\"\n",
    "convencional.to_csv(\"vehiculos de combustible convencional.csv\")"
   ]
  },
  {
   "cell_type": "markdown",
   "metadata": {},
   "source": [
    "DATASET VEHICULOS HIBRIDOS"
   ]
  },
  {
   "cell_type": "code",
   "execution_count": 19,
   "metadata": {},
   "outputs": [],
   "source": [
    "# Lee el archivo CSV \"hibridos.csv\"\n",
    "hibridos=pd.read_csv(\"DataSetCrudos\\hibridos.csv\",encoding=\"latin1\")"
   ]
  },
  {
   "cell_type": "code",
   "execution_count": 21,
   "metadata": {},
   "outputs": [],
   "source": [
    "# Crea una lista de los nombres de las columnas originales del DataFrame \"hibridos\"\n",
    "viejas_columnas = list(hibridos.columns)\n",
    "\n",
    "# Asigna nuevas columnas al DataFrame \"hibridos\" con nombres más descriptivos\n",
    "hibridos[\"model year\"] = hibridos[\"Model year\"]\n",
    "hibridos[\"fabricante\"] = hibridos[\"Make\"]\n",
    "hibridos[\"modelo\"] = hibridos[\"Model\"]\n",
    "hibridos[\"tipo de vehiculo\"] = hibridos[\"Vehicle class\"]\n",
    "hibridos[\"combustible 1\"] = hibridos[\"Fuel type 1\"]\n",
    "hibridos[\"Combinado Le/100 km\"] = hibridos[\"Combined Le/100 km\"]\n",
    "hibridos[\"rango 1\"] = hibridos[\"Range 1 (km)\"]\n",
    "hibridos[\"combustible 2\"] = hibridos[\"Fuel type 2\"]\n",
    "hibridos[\"Ciudad(L/100 km)\"] = hibridos[\"City (L/100 km)\"]\n",
    "hibridos[\"Carretera(L/100 km)\"] = hibridos[\"Highway (L/100 km)\"]\n",
    "hibridos[\"Combinado(L/100 km)\"] = hibridos[\"Combined (L/100 km)\"] \n",
    "hibridos[\"rango 2\"] = hibridos[\"Range 2 (km)\"]\n",
    "hibridos[\"emision de CO2(g/km)\"] = hibridos[\"CO2 emissions (g/km)\"]\n",
    "hibridos[\"calificacion de co2\"] = hibridos[\"CO2 rating\"]\n",
    "hibridos[\"calificacion por escape\"] = hibridos[\"Smog rating\"]\n",
    "\n",
    "# Elimina las columnas originales del DataFrame \"hibridos\"\n",
    "hibridos.drop(columns=viejas_columnas, inplace=True)"
   ]
  },
  {
   "cell_type": "code",
   "execution_count": 22,
   "metadata": {},
   "outputs": [],
   "source": [
    "# Definición de una función llamada 'con' que busca la cadena \"how\" dentro de un valor\n",
    "def con(val):\n",
    "    try:\n",
    "        return \"how\" in val\n",
    "    except:\n",
    "        return False\n",
    "\n",
    "# Selecciona y elimina las filas del DataFrame 'hibridos' donde la columna 'model year' contiene la cadena \"how\"\n",
    "hibridos.drop(hibridos[hibridos[\"model year\"].apply(lambda x: con(x))].index, inplace=True)\n",
    "\n",
    "# Convierte los valores de la columna 'model year' a tipo entero (si es posible)\n",
    "hibridos[\"model year\"] = hibridos[\"model year\"].apply(lambda x: int(x))\n",
    "\n",
    "# Crea una máscara booleana para seleccionar filas en las que el año del modelo sea menor que 2020 y sea igual a 2024\n",
    "mask = (hibridos[\"model year\"] < 2020) & (hibridos[\"model year\"] == 2024)\n",
    "\n",
    "# Elimina las filas del DataFrame 'hibridos' que cumplen con la condición de la máscara\n",
    "hibridos.drop(hibridos[mask].index, inplace=True)"
   ]
  },
  {
   "cell_type": "code",
   "execution_count": 23,
   "metadata": {},
   "outputs": [
    {
     "data": {
      "text/html": [
       "<div>\n",
       "<style scoped>\n",
       "    .dataframe tbody tr th:only-of-type {\n",
       "        vertical-align: middle;\n",
       "    }\n",
       "\n",
       "    .dataframe tbody tr th {\n",
       "        vertical-align: top;\n",
       "    }\n",
       "\n",
       "    .dataframe thead th {\n",
       "        text-align: right;\n",
       "    }\n",
       "</style>\n",
       "<table border=\"1\" class=\"dataframe\">\n",
       "  <thead>\n",
       "    <tr style=\"text-align: right;\">\n",
       "      <th></th>\n",
       "      <th>combustible 1</th>\n",
       "    </tr>\n",
       "    <tr>\n",
       "      <th>combustible 1</th>\n",
       "      <th></th>\n",
       "    </tr>\n",
       "  </thead>\n",
       "  <tbody>\n",
       "    <tr>\n",
       "      <th>B</th>\n",
       "      <td>39</td>\n",
       "    </tr>\n",
       "    <tr>\n",
       "      <th>B/X</th>\n",
       "      <td>103</td>\n",
       "    </tr>\n",
       "    <tr>\n",
       "      <th>B/Z</th>\n",
       "      <td>150</td>\n",
       "    </tr>\n",
       "  </tbody>\n",
       "</table>\n",
       "</div>"
      ],
      "text/plain": [
       "               combustible 1\n",
       "combustible 1               \n",
       "B                         39\n",
       "B/X                      103\n",
       "B/Z                      150"
      ]
     },
     "execution_count": 23,
     "metadata": {},
     "output_type": "execute_result"
    }
   ],
   "source": [
    "# Definición de la función 'fun' que asigna un valor específico a ciertos patrones encontrados en los valores de la columna 'combustible 1'\n",
    "def fun(val):\n",
    "    if \"B/X\" in val:\n",
    "        return \"B/X\"\n",
    "    elif \"B/Z\" in val:\n",
    "        return \"B/Z\"\n",
    "    else:\n",
    "        return val\n",
    "\n",
    "# Aplica la función 'fun' a los valores de la columna 'combustible 1'\n",
    "hibridos[\"combustible 1\"] = hibridos[\"combustible 1\"].apply(lambda x: fun(x))\n",
    "\n",
    "# Agrupa los datos por el valor de la columna 'combustible 1' y cuenta el número de ocurrencias de cada valor\n",
    "conteo_combustible = hibridos[[\"combustible 1\"]].groupby(\"combustible 1\").agg({\"combustible 1\": \"count\"})\n"
   ]
  },
  {
   "cell_type": "code",
   "execution_count": 24,
   "metadata": {},
   "outputs": [],
   "source": [
    "# Aplica una función lambda a los valores de la columna \"Combinado Le/100 km\" en el DataFrame \"hibridos\"\n",
    "# La función divide cada valor en un espacio en blanco y selecciona la parte numérica antes del espacio\n",
    "# Luego, convierte esta parte numérica en un número de punto flotante\n",
    "hibridos[\"Combinado Le/100 km\"]=hibridos[\"Combinado Le/100 km\"].apply(lambda x:float(x.split(\" \")[0]))"
   ]
  },
  {
   "cell_type": "code",
   "execution_count": 25,
   "metadata": {},
   "outputs": [],
   "source": [
    "# Selecciona las columnas \"tipo de vehiculo\", \"Combinado Le/100 km\" y \"Combinado(L/100 km)\" del DataFrame \"hibridos\",\n",
    "# luego agrupa los datos por tipo de vehículo y calcula la media de las columnas \"Combinado Le/100 km\" y \"Combinado(L/100 km)\" para cada tipo,\n",
    "# reinicia los índices del DataFrame resultante y lo ordena en orden descendente según los valores de las columnas \"Combinado Le/100 km\" y \"Combinado(L/100 km)\"\n",
    "tab_hib=hibridos[[\"tipo de vehiculo\",\"Combinado Le/100 km\",\"Combinado(L/100 km)\"]].groupby(\"tipo de vehiculo\").agg({\"Combinado Le/100 km\":\"mean\",\"Combinado(L/100 km)\":\"mean\"}).reset_index().sort_values(by=[\"Combinado Le/100 km\",\"Combinado(L/100 km)\"],ascending=False)"
   ]
  },
  {
   "cell_type": "code",
   "execution_count": 26,
   "metadata": {},
   "outputs": [],
   "source": [
    "# Se crea una nueva columna llamada \"hibrido electrico (combinado)\" en el DataFrame \"tab_hib\",\n",
    "# asignándole los valores de la columna \"Combinado Le/100 km\"\n",
    "tab_hib[\"hibrido electrico (combinado)\"] = tab_hib[\"Combinado Le/100 km\"]\n",
    "\n",
    "# Se crea una nueva columna llamada \"hibrido convencional (combinado)\" en el DataFrame \"tab_hib\",\n",
    "# asignándole los valores de la columna \"Combinado(L/100 km)\"\n",
    "tab_hib[\"hibrido convencional (combinado)\"] = tab_hib[\"Combinado(L/100 km)\"]\n",
    "\n",
    "# Se eliminan las columnas originales \"Combinado Le/100 km\" y \"Combinado(L/100 km)\" del DataFrame \"tab_hib\"\n",
    "tab_hib.drop(columns=[\"Combinado Le/100 km\", \"Combinado(L/100 km)\"], inplace=True)"
   ]
  },
  {
   "cell_type": "code",
   "execution_count": 27,
   "metadata": {},
   "outputs": [],
   "source": [
    "# Combina los DataFrames 'tab_conv' y 'tab_ele' en uno solo basado en la columna 'tipo de vehiculo'\n",
    "# Utiliza unir tipo 'left' para conservar todas las filas de 'tab_conv' y agregar información de 'tab_ele' si está disponible\n",
    "tab = pd.merge(tab_conv, tab_ele, on=\"tipo de vehiculo\", how=\"left\")\n",
    "\n",
    "# Combina el DataFrame resultante anterior con el DataFrame 'tab_hib' basado en la columna 'tipo de vehiculo'\n",
    "# Utiliza unir tipo 'left' para conservar todas las filas del DataFrame 'tab' y agregar información de 'tab_hib' si está disponible\n",
    "tab = pd.merge(tab, tab_hib, on=\"tipo de vehiculo\", how=\"left\")"
   ]
  },
  {
   "cell_type": "code",
   "execution_count": 28,
   "metadata": {},
   "outputs": [],
   "source": [
    "# Crea una máscara booleana para seleccionar las filas donde la columna \"electrico (ciudad)\" es NaN\n",
    "# y al menos una de las columnas \"hibrido electrico (combinado)\" o \"hibrido convencional (combinado)\" también es NaN\n",
    "mask = tab[\"electrico (ciudad)\"].isna() & (tab[\"hibrido electrico (combinado)\"].isna() | tab[\"hibrido convencional (combinado)\"].isna())\n",
    "\n",
    "# Elimina las filas del DataFrame 'tab' que cumplen con la condición de la máscara\n",
    "tab.drop(tab[mask].index, inplace=True)"
   ]
  },
  {
   "cell_type": "code",
   "execution_count": 29,
   "metadata": {},
   "outputs": [],
   "source": [
    "# Crea lista de tipos de auto\n",
    "autos=[\"Sport utility vehicle: Standard\",\n",
    "       \"Full-size\",\n",
    "       \"Minivan\",\n",
    "       \"Mid-size\",\n",
    "       \"Sport utility vehicle: Small\",\n",
    "       \"Compact\",\n",
    "       \"Station wagon: Small\"]"
   ]
  },
  {
   "cell_type": "code",
   "execution_count": 30,
   "metadata": {},
   "outputs": [],
   "source": [
    "# Crea una máscara booleana para seleccionar las filas en el DataFrame 'tab' donde el valor de la columna \"tipo de vehiculo\" está presente en la lista 'autos'\n",
    "mask = tab[\"tipo de vehiculo\"].apply(lambda x: x in autos)\n",
    "\n",
    "# Asigna al DataFrame 'tab' solo las filas que cumplen con la condición de la máscara\n",
    "tab = tab[mask]"
   ]
  },
  {
   "cell_type": "code",
   "execution_count": 31,
   "metadata": {},
   "outputs": [],
   "source": [
    "# Crea una lista de etiquetas a partir de los valores de la columna \"tipo de vehiculo\" en el DataFrame 'tab'\n",
    "labels = list(tab[\"tipo de vehiculo\"])\n",
    "\n",
    "# Modifica las etiquetas para que el texto que sigue a los dos puntos (:), si lo hay, esté en una nueva línea\n",
    "labels = [n.replace(\": \", \":\\n\") for n in labels]"
   ]
  },
  {
   "cell_type": "code",
   "execution_count": 32,
   "metadata": {},
   "outputs": [],
   "source": [
    "# Guarda el DataFrame \"hibridos\" en un archivo CSV con el nombre \"vehiculos hibridos.csv\"\n",
    "hibridos.to_csv(\"vehiculos hibridos.csv\")"
   ]
  },
  {
   "cell_type": "markdown",
   "metadata": {},
   "source": [
    "DATASET CONTAMINACION SONORA"
   ]
  },
  {
   "cell_type": "code",
   "execution_count": 2,
   "metadata": {},
   "outputs": [],
   "source": [
    "# Aca cargue el dataset completo\n",
    "sonido = pd.read_csv('DataSetCrudos\\contaminacion_sonora.csv')"
   ]
  },
  {
   "cell_type": "code",
   "execution_count": 3,
   "metadata": {},
   "outputs": [],
   "source": [
    "# Dejo solo año 2019\n",
    "sonido = sonido[sonido['year'] == 2019]"
   ]
  },
  {
   "cell_type": "code",
   "execution_count": 4,
   "metadata": {},
   "outputs": [],
   "source": [
    "# Estas columnas las elimino porque estan relacionadas a como se realizo el estudio, nombre del sensor, nombre del audio, etc\n",
    "columnas_a_eliminar = ['split', 'sensor_id', 'audio_filename',\t'annotator_id']\n",
    "\n",
    "# Elimina las columnas especificadas\n",
    "sonido = sonido.drop(columnas_a_eliminar, axis=1)"
   ]
  },
  {
   "cell_type": "code",
   "execution_count": 5,
   "metadata": {},
   "outputs": [],
   "source": [
    "# Reemplaza los valores string por valores numéricos en todo el DataFrame\n",
    "sonido = sonido.replace({'near': 1, 'far': 1, 'notsure': 0})"
   ]
  },
  {
   "cell_type": "code",
   "execution_count": 6,
   "metadata": {},
   "outputs": [],
   "source": [
    "# Guarda dataset como \"todos_los_sonidos.csv\"\n",
    "sonido.to_csv('todos_los_sonidos_2019.csv',index=False)"
   ]
  },
  {
   "cell_type": "markdown",
   "metadata": {},
   "source": [
    "DATASET TAXIS AMARILLOS"
   ]
  },
  {
   "cell_type": "code",
   "execution_count": 21,
   "metadata": {},
   "outputs": [],
   "source": [
    "# Abre dataset de taxis amarillos\n",
    "taxis_amarillos=pd.read_parquet(\"DataSetCrudos\\yellow taxi trip records.parquet\")"
   ]
  },
  {
   "cell_type": "code",
   "execution_count": 22,
   "metadata": {},
   "outputs": [],
   "source": [
    "# Eliminar duplicados en todo el DataFrame\n",
    "taxis_amarillos = taxis_amarillos.drop_duplicates()"
   ]
  },
  {
   "cell_type": "code",
   "execution_count": 23,
   "metadata": {},
   "outputs": [],
   "source": [
    "# Guarda una lista de las columnas originales del DataFrame \"taxis_amarillos\"\n",
    "columnas_viejas = list(taxis_amarillos.columns)\n",
    "\n",
    "# Renombra las columnas seleccionadas para que coincidan con un esquema específico\n",
    "taxis_amarillos[\"ProveedorID\"] = taxis_amarillos[\"VendorID\"]\n",
    "taxis_amarillos[\"hora comienzo de viaje\"] = taxis_amarillos[\"tpep_pickup_datetime\"]\n",
    "taxis_amarillos[\"hora fin de viaje\"] = taxis_amarillos[\"tpep_dropoff_datetime\"]\n",
    "taxis_amarillos[\"numero de pasajeros\"] = taxis_amarillos[\"passenger_count\"]\n",
    "taxis_amarillos[\"distancia de viaje\"] = taxis_amarillos[\"trip_distance\"]\n",
    "taxis_amarillos[\"tarifaID\"] = taxis_amarillos[\"RatecodeID\"]\n",
    "taxis_amarillos[\"InicioLocalidadID\"] = taxis_amarillos[\"PULocationID\"]\n",
    "taxis_amarillos[\"FinLocalidadID\"] = taxis_amarillos[\"DOLocationID\"]\n",
    "taxis_amarillos[\"metodo de pago\"] = taxis_amarillos[\"payment_type\"]\n",
    "taxis_amarillos[\"monto de tarifa\"] = taxis_amarillos[\"fare_amount\"]\n",
    "taxis_amarillos[\"impuesto MTA\"] = taxis_amarillos[\"mta_tax\"]\n",
    "taxis_amarillos[\"propina\"] = taxis_amarillos[\"tip_amount\"]\n",
    "taxis_amarillos[\"monto peajes\"] = taxis_amarillos[\"tolls_amount\"]\n",
    "taxis_amarillos[\"monto de mejoras\"] = taxis_amarillos[\"improvement_surcharge\"]\n",
    "taxis_amarillos[\"monto total\"] = taxis_amarillos[\"total_amount\"]\n",
    "taxis_amarillos[\"monto de congestion\"] = taxis_amarillos[\"congestion_surcharge\"]\n",
    "taxis_amarillos[\"monto aeropuerto\"] = taxis_amarillos[\"Airport_fee\"]\n",
    "\n",
    "# Remueve la columna \"extra\" de las columnas originales\n",
    "columnas_viejas.remove(\"extra\")\n",
    "\n",
    "# Elimina las columnas originales que no han sido renombradas\n",
    "# Esto es para conservar solo las columnas con los nuevos nombres\n",
    "taxis_amarillos.drop(columns=columnas_viejas, inplace=True)\n"
   ]
  },
  {
   "cell_type": "code",
   "execution_count": 24,
   "metadata": {},
   "outputs": [],
   "source": [
    "# Reemplaza los valores 99 en la columna \"tarifaID\" con NaN (valores nulos)\n",
    "taxis_amarillos[\"tarifaID\"].replace(99, np.nan, inplace=True)"
   ]
  },
  {
   "cell_type": "code",
   "execution_count": 25,
   "metadata": {},
   "outputs": [],
   "source": [
    "# Multiplica los valores en la columna \"distancia de viaje\" por 1.60934 para convertir millas a kilómetros\n",
    "# Esta operación convierte la distancia de viaje de millas a kilómetros\n",
    "taxis_amarillos[\"distancia de viaje\"] = taxis_amarillos[\"distancia de viaje\"] * 1.60934"
   ]
  },
  {
   "cell_type": "code",
   "execution_count": 26,
   "metadata": {},
   "outputs": [],
   "source": [
    "# Crea una máscara booleana para filtrar filas donde el método de pago es igual a 1 (efectivo) y la propina es igual a 0\n",
    "# Esto crea una máscara booleana que contiene True en las filas que cumplen ambas condiciones y False en las que no.\n",
    "mask = (taxis_amarillos[\"metodo de pago\"] == 1) & (taxis_amarillos[\"propina\"] == 0)\n",
    "\n",
    "mask=(taxis_amarillos[\"metodo de pago\"]==1) & (taxis_amarillos[\"propina\"]==0)"
   ]
  },
  {
   "cell_type": "code",
   "execution_count": 27,
   "metadata": {},
   "outputs": [],
   "source": [
    "# Diccionario que mapea los códigos de métodos de pago a sus descripciones\n",
    "metodos = {0: \"Tarjeta de crédito\",\n",
    "           1: \"Efectivo\",\n",
    "           2: \"Sin cargo\",\n",
    "           3: \"Disputa\",\n",
    "           4: \"Desconocido\",\n",
    "           5: \"Viaje anulado\"}\n",
    "\n",
    "# Aplica una función lambda para mapear los códigos de métodos de pago a sus descripciones correspondientes\n",
    "taxis_amarillos[\"metodo de pago\"] = taxis_amarillos[\"metodo de pago\"].apply(lambda x: metodos[x])"
   ]
  },
  {
   "cell_type": "code",
   "execution_count": 28,
   "metadata": {},
   "outputs": [],
   "source": [
    "# Crea una nueva columna \"fecha\" en el DataFrame \"taxis_amarillos\" y copia los valores de la columna \"hora comienzo de viaje\"\n",
    "taxis_amarillos[\"fecha\"] = taxis_amarillos[\"hora comienzo de viaje\"]"
   ]
  },
  {
   "cell_type": "code",
   "execution_count": 29,
   "metadata": {},
   "outputs": [],
   "source": [
    "# Crea una nueva columna \"year\" en el DataFrame \"taxis_amarillos\" y extrae el año de la columna \"hora comienzo de viaje\"\n",
    "taxis_amarillos[\"year\"] = taxis_amarillos[\"hora comienzo de viaje\"].apply(lambda x: x.year)\n",
    "\n",
    "# Crea una nueva columna \"mes\" en el DataFrame \"taxis_amarillos\" y extrae el mes de la columna \"hora comienzo de viaje\"\n",
    "taxis_amarillos[\"mes\"] = taxis_amarillos[\"hora comienzo de viaje\"].apply(lambda x: x.month)"
   ]
  },
  {
   "cell_type": "code",
   "execution_count": 30,
   "metadata": {},
   "outputs": [],
   "source": [
    "# Llena valores nulos con un valor específico antes de la conversión\n",
    "taxis_amarillos['numero de pasajeros'] = taxis_amarillos['numero de pasajeros'].fillna(1).astype(int)"
   ]
  },
  {
   "cell_type": "code",
   "execution_count": 31,
   "metadata": {},
   "outputs": [],
   "source": [
    "# Reemplaza valores '0' por '1'\n",
    "taxis_amarillos['numero de pasajeros'] = taxis_amarillos['numero de pasajeros'].replace(0, 1)"
   ]
  },
  {
   "cell_type": "code",
   "execution_count": 32,
   "metadata": {},
   "outputs": [],
   "source": [
    "# Especifica las columnas que quieres llenar con la media\n",
    "columnas_a_llenar = ['monto de congestion', 'monto aeropuerto']\n",
    "\n",
    "# Llena valores faltantes solo en las columnas especificadas con la media de cada columna\n",
    "taxis_amarillos[columnas_a_llenar] = taxis_amarillos[columnas_a_llenar].fillna(taxis_amarillos[columnas_a_llenar].mean())"
   ]
  },
  {
   "cell_type": "code",
   "execution_count": 33,
   "metadata": {},
   "outputs": [],
   "source": [
    "# Elimina las filas que tienen valores mayores a 500 en la columna 'distancia de viaje' porque los considero errores\n",
    "taxis_amarillos = taxis_amarillos[taxis_amarillos['distancia de viaje'] <= 500]"
   ]
  },
  {
   "cell_type": "code",
   "execution_count": 34,
   "metadata": {},
   "outputs": [],
   "source": [
    "# https://es.globalpetrolprices.com/USA/gasoline_prices/\n",
    "# https://miituo.com/blog/cuantos-kilometros-rinde-un-litro-de-gasolina/\n",
    "\n",
    "precio_gasolina_por_litro = 0.9 # Precio en usd actualizado al 29-01-24\n",
    "distancia_recorrida_por_litro = 11 # Promedio entre 10 y 12 km por litro\n",
    "precio_gasolina_por_km = precio_gasolina_por_litro/distancia_recorrida_por_litro  # Ingresa el precio de la gasolina por km\n",
    "\n",
    "# Crea la nueva columna 'costo de viaje gasolina'\n",
    "taxis_amarillos['costo de viaje gasolina ($usd)'] = (taxis_amarillos['distancia de viaje'] * precio_gasolina_por_km).round(2)"
   ]
  },
  {
   "cell_type": "code",
   "execution_count": 35,
   "metadata": {},
   "outputs": [],
   "source": [
    "# https://siempreauto.com/cuanto-consume-un-carro-electrico/\n",
    "# https://www.carwow.es/coches-electricos/calculadora-autonomia\n",
    "\n",
    "precio_carga_por_kwh = 0.175 # El costo por kWh en Estados Unidos es de $0.175 dólares, aproximadamente . Actualizado al 21-01-24\n",
    "distancia_recorrida_por_kwh = 7 # Promedio entre 6 y 8 km por kwh\n",
    "precio_kwh_por_km = precio_carga_por_kwh/distancia_recorrida_por_kwh  # Ingresa el precio de la gasolina por km\n",
    "\n",
    "# Crea la nueva columna 'costo de viaje kwh'\n",
    "taxis_amarillos['costo de viaje kwh ($usd)'] = (taxis_amarillos['distancia de viaje'] * precio_kwh_por_km).round(2)"
   ]
  },
  {
   "cell_type": "code",
   "execution_count": 36,
   "metadata": {},
   "outputs": [],
   "source": [
    "# Reemplaza los valores faltantes en la columna 'tarifaID' por '1.0'\n",
    "taxis_amarillos['tarifaID'] = taxis_amarillos['tarifaID'].fillna(1.0)"
   ]
  },
  {
   "cell_type": "code",
   "execution_count": 37,
   "metadata": {},
   "outputs": [],
   "source": [
    "# Filtra el DataFrame para mantener solo las filas con fechas dentro del rango especificado\n",
    "taxis_amarillos = taxis_amarillos[(taxis_amarillos['hora comienzo de viaje'] >= '2023-01-01') & (taxis_amarillos['hora comienzo de viaje'] < '2023-12-01')]"
   ]
  },
  {
   "cell_type": "code",
   "execution_count": 38,
   "metadata": {},
   "outputs": [],
   "source": [
    "# Calcula la media de cada columna\n",
    "columnas = ['distancia de viaje', 'monto total', 'monto de congestion','numero de pasajeros', 'monto de tarifa', 'propina','monto peajes', 'monto de mejoras', 'monto aeropuerto', 'costo de viaje gasolina ($usd)', 'costo de viaje kwh ($usd)']\n",
    "medias = taxis_amarillos[columnas].mean()\n",
    "\n",
    "# Reemplaza los valores negativos por la media\n",
    "for columna in columnas:\n",
    "    taxis_amarillos[columna] = taxis_amarillos[columna].apply(lambda x: medias[columna] if x < 0 else x)"
   ]
  },
  {
   "cell_type": "code",
   "execution_count": 39,
   "metadata": {},
   "outputs": [],
   "source": [
    "# Mapeo de valores a palabras\n",
    "mapeo_tarifas = {\n",
    "    1.0: 'Standard rate',\n",
    "    2.0: 'JFK',\n",
    "    3.0: 'Newark',\n",
    "    4.0: 'Nassau or Westchester',\n",
    "    5.0: 'Negotiated fare',\n",
    "    6.0: 'Group ride'\n",
    "}\n",
    "\n",
    "# Aplica el mapeo a la columna 'tarifaID'\n",
    "taxis_amarillos['tarifaID'] = taxis_amarillos['tarifaID'].map(mapeo_tarifas)"
   ]
  },
  {
   "cell_type": "code",
   "execution_count": 40,
   "metadata": {},
   "outputs": [],
   "source": [
    "# Calcula y agrega columna de la duración de viaje en minutos\n",
    "taxis_amarillos['duracion de viaje (min)'] = ((taxis_amarillos['hora fin de viaje'] - taxis_amarillos['hora comienzo de viaje']).dt.total_seconds() / 60).round(2)"
   ]
  },
  {
   "cell_type": "code",
   "execution_count": 41,
   "metadata": {},
   "outputs": [],
   "source": [
    "# Guarda el DataFrame \"taxis_amarillos\" en un archivo PARQUET con el nombre \"taxis_amarillos.parquet\"\n",
    "taxis_amarillos.to_parquet(\"taxis_amarillos.parquet\",index=False)"
   ]
  },
  {
   "cell_type": "markdown",
   "metadata": {},
   "source": [
    "DATASET TAXIS VERDES"
   ]
  },
  {
   "cell_type": "code",
   "execution_count": 6,
   "metadata": {},
   "outputs": [],
   "source": [
    "# Abre dataset de taxis verdes\n",
    "taxis_verdes=pd.read_parquet(\"DataSetCrudos\\green taxi trip records.parquet\")"
   ]
  },
  {
   "cell_type": "code",
   "execution_count": 7,
   "metadata": {},
   "outputs": [],
   "source": [
    "# Eliminar duplicados en todo el DataFrame\n",
    "taxis_verdes = taxis_verdes.drop_duplicates()"
   ]
  },
  {
   "cell_type": "code",
   "execution_count": 8,
   "metadata": {},
   "outputs": [],
   "source": [
    "# Guarda una lista de las columnas originales del DataFrame \"taxis_verdes\"\n",
    "columnas_viejas = list(taxis_verdes.columns)\n",
    "\n",
    "# Renombra las columnas seleccionadas para que coincidan con un esquema específico\n",
    "taxis_verdes[\"ProveedorID\"] = taxis_verdes[\"VendorID\"]\n",
    "taxis_verdes[\"hora comienzo de viaje\"] = taxis_verdes[\"lpep_pickup_datetime\"]\n",
    "taxis_verdes[\"hora fin de viaje\"] = taxis_verdes[\"lpep_dropoff_datetime\"]\n",
    "taxis_verdes[\"numero de pasajeros\"] = taxis_verdes[\"passenger_count\"]\n",
    "taxis_verdes[\"distancia de viaje\"] = taxis_verdes[\"trip_distance\"]\n",
    "taxis_verdes[\"tarifaID\"] = taxis_verdes[\"RatecodeID\"]\n",
    "taxis_verdes[\"InicioLocalidadID\"] = taxis_verdes[\"PULocationID\"]\n",
    "taxis_verdes[\"FinLocalidadID\"] = taxis_verdes[\"DOLocationID\"]\n",
    "taxis_verdes[\"metodo de pago\"] = taxis_verdes[\"payment_type\"]\n",
    "taxis_verdes[\"monto de tarifa\"] = taxis_verdes[\"fare_amount\"]\n",
    "taxis_verdes[\"impuesto MTA\"] = taxis_verdes[\"mta_tax\"]\n",
    "taxis_verdes[\"propina\"] = taxis_verdes[\"tip_amount\"]\n",
    "taxis_verdes[\"monto peajes\"] = taxis_verdes[\"tolls_amount\"]\n",
    "taxis_verdes[\"monto de mejoras\"] = taxis_verdes[\"improvement_surcharge\"]\n",
    "taxis_verdes[\"monto total\"] = taxis_verdes[\"total_amount\"]\n",
    "taxis_verdes[\"monto de congestion\"] = taxis_verdes[\"congestion_surcharge\"]\n",
    "taxis_verdes[\"tipo de viaje\"] = taxis_verdes[\"trip_type\"]\n",
    "\n",
    "# Remueve la columna \"extra\" de las columnas originales\n",
    "columnas_viejas.remove(\"extra\")\n",
    "\n",
    "# Elimina las columnas originales que no han sido renombradas\n",
    "# Esto es para conservar solo las columnas con los nuevos nombres\n",
    "taxis_verdes.drop(columns=columnas_viejas, inplace=True)"
   ]
  },
  {
   "cell_type": "code",
   "execution_count": 9,
   "metadata": {},
   "outputs": [],
   "source": [
    "# Reemplaza los valores 99 en la columna \"tarifaID\" con NaN (valores nulos)\n",
    "# Esto puede ser útil si los valores 99 indican valores atípicos o no válidos en los datos\n",
    "taxis_verdes[\"tarifaID\"].replace(99, np.nan, inplace=True)"
   ]
  },
  {
   "cell_type": "code",
   "execution_count": 10,
   "metadata": {},
   "outputs": [],
   "source": [
    "# Multiplica los valores en la columna \"distancia de viaje\" por 1.60934 para convertir millas a kilómetros\n",
    "# Esta operación convierte la distancia de viaje de millas a kilómetros\n",
    "taxis_verdes[\"distancia de viaje\"] = taxis_verdes[\"distancia de viaje\"] * 1.60934\n"
   ]
  },
  {
   "cell_type": "code",
   "execution_count": 11,
   "metadata": {},
   "outputs": [],
   "source": [
    "# Elimina las filas que tienen valores mayores a 500 en la columna 'distancia de viaje' porque los considero errores\n",
    "taxis_verdes = taxis_verdes[taxis_verdes['distancia de viaje'] <= 500]"
   ]
  },
  {
   "cell_type": "code",
   "execution_count": 12,
   "metadata": {},
   "outputs": [],
   "source": [
    "# https://es.globalpetrolprices.com/USA/gasoline_prices/\n",
    "# https://miituo.com/blog/cuantos-kilometros-rinde-un-litro-de-gasolina/\n",
    "\n",
    "precio_gasolina_por_litro = 0.9 # Precio en usd actualizado al 29-01-24\n",
    "distancia_recorrida_por_litro = 11 # Promedio entre 10 y 12 km por litro\n",
    "precio_gasolina_por_km = precio_gasolina_por_litro/distancia_recorrida_por_litro  # Ingresa el precio de la gasolina por km\n",
    "\n",
    "# Crear la nueva columna 'costo de viaje gasolina'\n",
    "taxis_verdes['costo de viaje gasolina ($usd)'] = (taxis_verdes['distancia de viaje'] * precio_gasolina_por_km).round(2)"
   ]
  },
  {
   "cell_type": "code",
   "execution_count": 13,
   "metadata": {},
   "outputs": [],
   "source": [
    "# https://siempreauto.com/cuanto-consume-un-carro-electrico/\n",
    "# https://www.carwow.es/coches-electricos/calculadora-autonomia\n",
    "\n",
    "precio_carga_por_kwh = 0.175 # El costo por kWh en Estados Unidos es de $0.175 dólares, aproximadamente . Actualizado al 21-01-24\n",
    "distancia_recorrida_por_kwh = 7 # Promedio entre 6 y 8 km por kwh\n",
    "precio_kwh_por_km = precio_carga_por_kwh/distancia_recorrida_por_kwh  # Ingresa el precio de la gasolina por km\n",
    "\n",
    "# Crear la nueva columna 'costo de viaje kwh'\n",
    "taxis_verdes['costo de viaje kwh ($usd)'] = (taxis_verdes['distancia de viaje'] * precio_kwh_por_km).round(2)"
   ]
  },
  {
   "cell_type": "code",
   "execution_count": 14,
   "metadata": {},
   "outputs": [],
   "source": [
    "# Llena valores no nulos con un valor específico antes de la conversión a int\n",
    "taxis_verdes['numero de pasajeros'] = taxis_verdes['numero de pasajeros'].fillna(1).astype(int)\n",
    "\n",
    "# Reemplaza valores '0' por '1'\n",
    "taxis_verdes['numero de pasajeros'] = taxis_verdes['numero de pasajeros'].replace(0, 1)"
   ]
  },
  {
   "cell_type": "code",
   "execution_count": 15,
   "metadata": {},
   "outputs": [],
   "source": [
    "# Elimina filas con valores faltantes\n",
    "taxis_verdes = taxis_verdes.dropna()"
   ]
  },
  {
   "cell_type": "code",
   "execution_count": 16,
   "metadata": {},
   "outputs": [],
   "source": [
    "# Filtra el DataFrame para mantener solo las filas con fechas dentro del rango especificado\n",
    "taxis_verdes = taxis_verdes[(taxis_verdes['hora comienzo de viaje'] >= '2023-01-01') & (taxis_verdes['hora comienzo de viaje'] < '2023-12-01')]"
   ]
  },
  {
   "cell_type": "code",
   "execution_count": 17,
   "metadata": {},
   "outputs": [],
   "source": [
    "# Calcula la media de cada columna\n",
    "columnas = ['distancia de viaje', 'monto total', 'monto de congestion','numero de pasajeros', 'monto de tarifa', 'propina','monto peajes', 'monto de mejoras', 'costo de viaje gasolina ($usd)', 'costo de viaje kwh ($usd)']\n",
    "medias = taxis_verdes[columnas].mean()\n",
    "\n",
    "# Reemplaza los valores negativos por la media\n",
    "for columna in columnas:\n",
    "    taxis_verdes[columna] = taxis_verdes[columna].apply(lambda x: medias[columna] if x < 0 else x)"
   ]
  },
  {
   "cell_type": "code",
   "execution_count": 18,
   "metadata": {},
   "outputs": [],
   "source": [
    "# Mapeo de valores a palabras\n",
    "mapeo_tarifas = {\n",
    "    1.0: 'Standard rate',\n",
    "    2.0: 'JFK',\n",
    "    3.0: 'Newark',\n",
    "    4.0: 'Nassau or Westchester',\n",
    "    5.0: 'Negotiated fare',\n",
    "    6.0: 'Group ride'\n",
    "}\n",
    "\n",
    "# Aplica el mapeo a la columna 'tarifaID'\n",
    "taxis_verdes['tarifaID'] = taxis_verdes['tarifaID'].map(mapeo_tarifas)"
   ]
  },
  {
   "cell_type": "code",
   "execution_count": 19,
   "metadata": {},
   "outputs": [],
   "source": [
    "# Calcula y agrega columna de la duración de viaje en minutos\n",
    "taxis_verdes['duracion de viaje (min)'] = ((taxis_verdes['hora fin de viaje'] - taxis_verdes['hora comienzo de viaje']).dt.total_seconds() / 60).round(2)"
   ]
  },
  {
   "cell_type": "code",
   "execution_count": 20,
   "metadata": {},
   "outputs": [],
   "source": [
    "# Guarda el DataFrame \"taxis_verdes\" en un archivo Parquet llamado \"taxis_verdes.parquet\"\n",
    "taxis_verdes.to_parquet(\"taxis_verdes.parquet\",index=False)"
   ]
  },
  {
   "cell_type": "markdown",
   "metadata": {},
   "source": [
    "DATASET CO2"
   ]
  },
  {
   "cell_type": "code",
   "execution_count": 49,
   "metadata": {},
   "outputs": [],
   "source": [
    "# Abre dataset Air Quality\n",
    "datos_aire = pd.read_csv('DataSetCrudos/Air_Quality_20240130.csv')"
   ]
  },
  {
   "cell_type": "code",
   "execution_count": 50,
   "metadata": {},
   "outputs": [],
   "source": [
    "# Lista de columnas a eliminar del DataFrame \"datos_aire\"\n",
    "columnas_a_eliminar = ['Message', 'Indicator ID', 'Geo Type Name', 'Geo Join ID']\n",
    "\n",
    "# Elimina las columnas especificadas del DataFrame \"datos_aire\"\n",
    "datos_aire = datos_aire.drop(columnas_a_eliminar, axis=1)"
   ]
  },
  {
   "cell_type": "code",
   "execution_count": 51,
   "metadata": {},
   "outputs": [],
   "source": [
    "# Calcula el promedio de los valores de 'Data Value' agrupados por 'Geo Place Name'\n",
    "# Luego, reinicia el índice del DataFrame resultante para que 'Geo Place Name' se convierta en una columna\n",
    "contaminacion_promedio_por_vecindario = datos_aire.groupby('Geo Place Name')['Data Value'].mean().reset_index()"
   ]
  },
  {
   "cell_type": "code",
   "execution_count": 52,
   "metadata": {},
   "outputs": [],
   "source": [
    "# Etiquetas correspondientes a mediciones de hospitalizaciones\n",
    "hospitalizaciones_etiquetas = [\n",
    "    'Asthma emergency department visits due to PM2.5',\n",
    "    'Asthma hospitalizations due to Ozone',\n",
    "    'Asthma emergency departments visits due to Ozone',\n",
    "    'Cardiac and respiratory deaths due to Ozone',\n",
    "    'Deaths due to PM2.5',\n",
    "    'Cardiovascular hospitalizations due to PM2.5 (age 40+)',\n",
    "    'Respiratory hospitalizations due to PM2.5 (age 20+)'\n",
    "]\n",
    "\n",
    "# Etiquetas correspondientes a mediciones de contaminación en el aire\n",
    "contaminacion_etiquetas = [\n",
    "    'Nitrogen dioxide (NO2)',\n",
    "    'Fine particles (PM 2.5)',\n",
    "    'Ozone (O3)',\n",
    "    'Outdoor Air Toxics - Benzene',\n",
    "    'Outdoor Air Toxics - Formaldehyde',\n",
    "    'Boiler Emissions- Total NOx Emissions',\n",
    "    'Boiler Emissions- Total SO2 Emissions',\n",
    "    'Boiler Emissions- Total PM2.5 Emissions'\n",
    "]\n",
    "\n",
    "# Filtrar las filas correspondientes a hospitalizaciones\n",
    "hospitalizaciones_df = datos_aire[datos_aire['Name'].isin(hospitalizaciones_etiquetas)]\n",
    "\n",
    "# Filtrar las filas correspondientes a mediciones de contaminación en el aire\n",
    "contaminacion_df = datos_aire[datos_aire['Name'].isin(contaminacion_etiquetas)]"
   ]
  },
  {
   "cell_type": "code",
   "execution_count": 53,
   "metadata": {},
   "outputs": [],
   "source": [
    "# El año extraído se almacena en una nueva columna llamada 'year'\n",
    "contaminacion_df['year'] = contaminacion_df['Time Period'].str.extract(r'(\\d{4})')"
   ]
  },
  {
   "cell_type": "code",
   "execution_count": 59,
   "metadata": {},
   "outputs": [],
   "source": [
    "# Guarda datasets\n",
    "datos_aire.to_csv('datos_aire.csv',index=False)\n",
    "hospitalizaciones_df.to_csv('hospitalizaciones_aire.csv',index=False)\n",
    "contaminacion_df.to_csv('contaminacion_aire.csv',index=False)"
   ]
  },
  {
   "cell_type": "markdown",
   "metadata": {},
   "source": [
    "DATASET CO2 NEW YORK"
   ]
  },
  {
   "cell_type": "code",
   "execution_count": 55,
   "metadata": {},
   "outputs": [],
   "source": [
    "# Abre dataset con excel\n",
    "datos_co2 = pd.read_excel('DataSetCrudos\\FY_2021_FY_2022_municipal.xlsx')"
   ]
  },
  {
   "cell_type": "code",
   "execution_count": 56,
   "metadata": {},
   "outputs": [],
   "source": [
    "# Filtra las filas del DataFrame 'datos_co2' donde el valor en la columna 'Main Sector' es igual a 'Transportation'\n",
    "c02_trasporte = datos_co2.loc[datos_co2['Main Sector'] == 'Transportation']\n"
   ]
  },
  {
   "cell_type": "code",
   "execution_count": 57,
   "metadata": {},
   "outputs": [],
   "source": [
    "# Guarda dataset 'co2_transporte.xlsx'\n",
    "c02_trasporte.to_excel('c02_trasporte.xlsx', index=False)"
   ]
  },
  {
   "cell_type": "markdown",
   "metadata": {},
   "source": [
    "DATASET TRANSPORTE"
   ]
  },
  {
   "cell_type": "code",
   "execution_count": null,
   "metadata": {},
   "outputs": [],
   "source": [
    "datos_trasp = pd.read_csv(r'D:\\Users\\Natalia\\Downloads\\data\\NYC EH Data Portal - Commuting modes (filtered).csv')"
   ]
  },
  {
   "cell_type": "code",
   "execution_count": null,
   "metadata": {},
   "outputs": [],
   "source": [
    "tipos_de_transporte = ['Bicycle', 'Car, truck, or van', 'Public transportation', 'Walked']\n",
    "\n",
    "for transporte in tipos_de_transporte:\n",
    " \n",
    "    indice_max_porcentaje = datos_trasp[f'{transporte} (percent)'].idxmax()\n",
    "    \n",
    "    \n",
    "    barrio_max = datos_trasp.loc[indice_max_porcentaje, 'Geography']\n",
    "    porcentaje_max = datos_trasp.loc[indice_max_porcentaje, f'{transporte} (percent)']\n",
    "    \n",
    "    print(f\"Barrio con mayor porcentaje de {transporte}: {barrio_max} ({porcentaje_max}%)\")"
   ]
  }
 ],
 "metadata": {
  "kernelspec": {
   "display_name": "Python 3",
   "language": "python",
   "name": "python3"
  },
  "language_info": {
   "codemirror_mode": {
    "name": "ipython",
    "version": 3
   },
   "file_extension": ".py",
   "mimetype": "text/x-python",
   "name": "python",
   "nbconvert_exporter": "python",
   "pygments_lexer": "ipython3",
   "version": "3.10.7"
  }
 },
 "nbformat": 4,
 "nbformat_minor": 2
}
