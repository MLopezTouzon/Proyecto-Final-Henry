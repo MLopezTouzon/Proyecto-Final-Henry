{
 "cells": [
  {
   "cell_type": "markdown",
   "metadata": {},
   "source": [
    "## Importo las librerias básicas"
   ]
  },
  {
   "cell_type": "code",
   "execution_count": 1,
   "metadata": {},
   "outputs": [],
   "source": [
    "import pandas as pd\n",
    "import numpy as np\n",
    "import matplotlib.pyplot as plt\n",
    "import seaborn as sns\n"
   ]
  },
  {
   "cell_type": "markdown",
   "metadata": {},
   "source": [
    "## Instalo e importo las librerías necesarias para traducir las reseñas al ingles"
   ]
  },
  {
   "cell_type": "code",
   "execution_count": null,
   "metadata": {},
   "outputs": [],
   "source": [
    "pip install --upgrade googletrans==4.0.0-rc1"
   ]
  },
  {
   "cell_type": "code",
   "execution_count": null,
   "metadata": {},
   "outputs": [],
   "source": [
    "from googletrans import Translator\n",
    "import googletrans"
   ]
  },
  {
   "cell_type": "code",
   "execution_count": null,
   "metadata": {},
   "outputs": [],
   "source": [
    "# Funcion para traducir la columna 'Review Text' y crear una nueva con la traducción, 'review_english'\n",
    "\n",
    "\n",
    "def translate_column(df, column_name):\n",
    "    translator = googletrans.Translator()\n",
    "    df['review_english'] = ''\n",
    "    for index, row in df.iterrows():\n",
    "        # Translate the text.\n",
    "        translated_text = translator.translate(row[column_name], dest='en')\n",
    "        # Add the translated text to the new column.\n",
    "        df.loc[index, 'review_english'] = translated_text.text\n",
    "    return df\n",
    "\n",
    "# Translate the 'Review Text' column of df_reseñas.\n",
    "df_reseñas = translate_column(df_reseñas, 'Review Text')\n"
   ]
  },
  {
   "cell_type": "code",
   "execution_count": 21,
   "metadata": {},
   "outputs": [],
   "source": [
    "# Lee el dataset\n",
    "df_reseñas = pd.read_csv('data_traducida.csv')"
   ]
  },
  {
   "cell_type": "code",
   "execution_count": 22,
   "metadata": {},
   "outputs": [
    {
     "data": {
      "text/html": [
       "<div>\n",
       "<style scoped>\n",
       "    .dataframe tbody tr th:only-of-type {\n",
       "        vertical-align: middle;\n",
       "    }\n",
       "\n",
       "    .dataframe tbody tr th {\n",
       "        vertical-align: top;\n",
       "    }\n",
       "\n",
       "    .dataframe thead th {\n",
       "        text-align: right;\n",
       "    }\n",
       "</style>\n",
       "<table border=\"1\" class=\"dataframe\">\n",
       "  <thead>\n",
       "    <tr style=\"text-align: right;\">\n",
       "      <th></th>\n",
       "      <th>Review Text</th>\n",
       "      <th>review_english</th>\n",
       "      <th>User Name</th>\n",
       "    </tr>\n",
       "  </thead>\n",
       "  <tbody>\n",
       "    <tr>\n",
       "      <th>0</th>\n",
       "      <td>I cannot say enough good things about this car...</td>\n",
       "      <td>I cannot say enough good things about this car...</td>\n",
       "      <td>Julia S</td>\n",
       "    </tr>\n",
       "    <tr>\n",
       "      <th>1</th>\n",
       "      <td>Great service and easy to organize.  Received ...</td>\n",
       "      <td>Great service and easy to organize.  Received ...</td>\n",
       "      <td>Lilitreamont</td>\n",
       "    </tr>\n",
       "    <tr>\n",
       "      <th>2</th>\n",
       "      <td>We have used them 6 times this past year for m...</td>\n",
       "      <td>We have used them 6 times this past year for m...</td>\n",
       "      <td>BobnLaurie</td>\n",
       "    </tr>\n",
       "    <tr>\n",
       "      <th>3</th>\n",
       "      <td>Great, Professional Drivers.  They were early ...</td>\n",
       "      <td>Great, Professional Drivers.  They were early ...</td>\n",
       "      <td>mld661</td>\n",
       "    </tr>\n",
       "    <tr>\n",
       "      <th>4</th>\n",
       "      <td>Great communication and service. Someone answe...</td>\n",
       "      <td>Great communication and service. Someone answe...</td>\n",
       "      <td>Audrey S</td>\n",
       "    </tr>\n",
       "    <tr>\n",
       "      <th>...</th>\n",
       "      <td>...</td>\n",
       "      <td>...</td>\n",
       "      <td>...</td>\n",
       "    </tr>\n",
       "    <tr>\n",
       "      <th>445</th>\n",
       "      <td>Excelente todo; la atencion pre-viaje - el ase...</td>\n",
       "      <td>Excellent everything;Pre -Viaje ATTENTION - Th...</td>\n",
       "      <td>Manuel P</td>\n",
       "    </tr>\n",
       "    <tr>\n",
       "      <th>446</th>\n",
       "      <td>Puntual, excelente servicio y atención en todo...</td>\n",
       "      <td>Punctual, excellent service and attention in a...</td>\n",
       "      <td>Valeria345</td>\n",
       "    </tr>\n",
       "    <tr>\n",
       "      <th>447</th>\n",
       "      <td>La mejor manera de llegar a Nueva York. El tra...</td>\n",
       "      <td>The best way to get to New York.The journey wa...</td>\n",
       "      <td>Lizardo P</td>\n",
       "    </tr>\n",
       "    <tr>\n",
       "      <th>448</th>\n",
       "      <td>Re linda energía, eficaz, muy atentos y puntua...</td>\n",
       "      <td>Re beautiful energy, effective, very attentive...</td>\n",
       "      <td>Emiliano V</td>\n",
       "    </tr>\n",
       "    <tr>\n",
       "      <th>449</th>\n",
       "      <td>Elegimos Relier por intermedio de una amiga y ...</td>\n",
       "      <td>We chose Relier through a friend and we came f...</td>\n",
       "      <td>pauruizdiaz</td>\n",
       "    </tr>\n",
       "  </tbody>\n",
       "</table>\n",
       "<p>450 rows × 3 columns</p>\n",
       "</div>"
      ],
      "text/plain": [
       "                                           Review Text  \\\n",
       "0    I cannot say enough good things about this car...   \n",
       "1    Great service and easy to organize.  Received ...   \n",
       "2    We have used them 6 times this past year for m...   \n",
       "3    Great, Professional Drivers.  They were early ...   \n",
       "4    Great communication and service. Someone answe...   \n",
       "..                                                 ...   \n",
       "445  Excelente todo; la atencion pre-viaje - el ase...   \n",
       "446  Puntual, excelente servicio y atención en todo...   \n",
       "447  La mejor manera de llegar a Nueva York. El tra...   \n",
       "448  Re linda energía, eficaz, muy atentos y puntua...   \n",
       "449  Elegimos Relier por intermedio de una amiga y ...   \n",
       "\n",
       "                                        review_english     User Name  \n",
       "0    I cannot say enough good things about this car...       Julia S  \n",
       "1    Great service and easy to organize.  Received ...  Lilitreamont  \n",
       "2    We have used them 6 times this past year for m...    BobnLaurie  \n",
       "3    Great, Professional Drivers.  They were early ...        mld661  \n",
       "4    Great communication and service. Someone answe...      Audrey S  \n",
       "..                                                 ...           ...  \n",
       "445  Excellent everything;Pre -Viaje ATTENTION - Th...      Manuel P  \n",
       "446  Punctual, excellent service and attention in a...    Valeria345  \n",
       "447  The best way to get to New York.The journey wa...     Lizardo P  \n",
       "448  Re beautiful energy, effective, very attentive...    Emiliano V  \n",
       "449  We chose Relier through a friend and we came f...   pauruizdiaz  \n",
       "\n",
       "[450 rows x 3 columns]"
      ]
     },
     "execution_count": 22,
     "metadata": {},
     "output_type": "execute_result"
    }
   ],
   "source": [
    "df_reseñas"
   ]
  },
  {
   "cell_type": "code",
   "execution_count": null,
   "metadata": {},
   "outputs": [],
   "source": []
  },
  {
   "cell_type": "markdown",
   "metadata": {},
   "source": [
    "## En el modelo de ML, vamos a utilizar un algoritmo de clasificacion supervisada, por ello, luego de leer varias reseñas, creo las categorías con las etiquetas que mejor se ajustan a los datos"
   ]
  },
  {
   "cell_type": "code",
   "execution_count": 23,
   "metadata": {},
   "outputs": [
    {
     "data": {
      "text/html": [
       "<div>\n",
       "<style scoped>\n",
       "    .dataframe tbody tr th:only-of-type {\n",
       "        vertical-align: middle;\n",
       "    }\n",
       "\n",
       "    .dataframe tbody tr th {\n",
       "        vertical-align: top;\n",
       "    }\n",
       "\n",
       "    .dataframe thead th {\n",
       "        text-align: right;\n",
       "    }\n",
       "</style>\n",
       "<table border=\"1\" class=\"dataframe\">\n",
       "  <thead>\n",
       "    <tr style=\"text-align: right;\">\n",
       "      <th></th>\n",
       "      <th>Review Text</th>\n",
       "      <th>review_english</th>\n",
       "      <th>User Name</th>\n",
       "      <th>category</th>\n",
       "    </tr>\n",
       "  </thead>\n",
       "  <tbody>\n",
       "    <tr>\n",
       "      <th>0</th>\n",
       "      <td>I cannot say enough good things about this car...</td>\n",
       "      <td>I cannot say enough good things about this car...</td>\n",
       "      <td>Julia S</td>\n",
       "      <td>Recomendación por buen servicio del conductor</td>\n",
       "    </tr>\n",
       "    <tr>\n",
       "      <th>1</th>\n",
       "      <td>Great service and easy to organize.  Received ...</td>\n",
       "      <td>Great service and easy to organize.  Received ...</td>\n",
       "      <td>Lilitreamont</td>\n",
       "      <td>Recomendación por buen servicio del conductor</td>\n",
       "    </tr>\n",
       "    <tr>\n",
       "      <th>2</th>\n",
       "      <td>We have used them 6 times this past year for m...</td>\n",
       "      <td>We have used them 6 times this past year for m...</td>\n",
       "      <td>BobnLaurie</td>\n",
       "      <td>Recomendacion General</td>\n",
       "    </tr>\n",
       "    <tr>\n",
       "      <th>3</th>\n",
       "      <td>Great, Professional Drivers.  They were early ...</td>\n",
       "      <td>Great, Professional Drivers.  They were early ...</td>\n",
       "      <td>mld661</td>\n",
       "      <td>Recomendación por buen servicio del conductor</td>\n",
       "    </tr>\n",
       "    <tr>\n",
       "      <th>4</th>\n",
       "      <td>Great communication and service. Someone answe...</td>\n",
       "      <td>Great communication and service. Someone answe...</td>\n",
       "      <td>Audrey S</td>\n",
       "      <td>Recomendación por buen servicio del conductor</td>\n",
       "    </tr>\n",
       "  </tbody>\n",
       "</table>\n",
       "</div>"
      ],
      "text/plain": [
       "                                         Review Text  \\\n",
       "0  I cannot say enough good things about this car...   \n",
       "1  Great service and easy to organize.  Received ...   \n",
       "2  We have used them 6 times this past year for m...   \n",
       "3  Great, Professional Drivers.  They were early ...   \n",
       "4  Great communication and service. Someone answe...   \n",
       "\n",
       "                                      review_english     User Name  \\\n",
       "0  I cannot say enough good things about this car...       Julia S   \n",
       "1  Great service and easy to organize.  Received ...  Lilitreamont   \n",
       "2  We have used them 6 times this past year for m...    BobnLaurie   \n",
       "3  Great, Professional Drivers.  They were early ...        mld661   \n",
       "4  Great communication and service. Someone answe...      Audrey S   \n",
       "\n",
       "                                        category  \n",
       "0  Recomendación por buen servicio del conductor  \n",
       "1  Recomendación por buen servicio del conductor  \n",
       "2                          Recomendacion General  \n",
       "3  Recomendación por buen servicio del conductor  \n",
       "4  Recomendación por buen servicio del conductor  "
      ]
     },
     "execution_count": 23,
     "metadata": {},
     "output_type": "execute_result"
    }
   ],
   "source": [
    "# Definir la función para categorizar reseñas\n",
    "\n",
    "def categorizar_reseñas(review_text):\n",
    "    # Convertir el texto a minúsculas para facilitar la comparación\n",
    "    review_text = review_text.lower()\n",
    "\n",
    "    # Categoría 1: Recomendación por buen servicio del conductor\n",
    "    if any(word in review_text for word in ['friendly', 'prompt', 'arrived on time', 'professional', 'informed',\n",
    "                                             'attentive', 'excellence', 'attention', 'arrived early', 'organized',\n",
    "                                               'helpful', 'support', 'competent', 'serious', 'punctual',\n",
    "                                                 'provide fast', 'arrive on time']):\n",
    "        return \"Recomendación por buen servicio del conductor\"\n",
    "    \n",
    "    # Categoría 2: Recomendación por buen estado del vehículo\n",
    "    elif any(word in review_text for word in ['clean', 'immaculate', 'maintained', 'impeccable', 'quiet', \n",
    "                                              'well maintained']):\n",
    "        return \"Recomendación por buen estado del vehículo\"\n",
    "    \n",
    "    # Categoría 3: Queja por conductor\n",
    "    elif any(word in review_text for word in ['late', 'had a bad attitude', 'thing were wrong', 'reckless',\n",
    "                                               'Unprofessional', 'not punctual']):\n",
    "        return \"Queja por conductor\"\n",
    "    \n",
    "    # Categoría 4: Queja por vehículo\n",
    "    elif any(word in review_text for word in ['dirty', 'poor condition', 'noisy', 'bad condition', 'uncomfortable']):\n",
    "        return \"Queja por vehículo\"\n",
    "    \n",
    "    # Si no se encuentra ninguna categoría específica, se devuelve \"Recomendacion General\"\n",
    "    else:\n",
    "        return \"Recomendacion General\"\n",
    "\n",
    "# Aplicar la función a la columna 'review_english' y crear una nueva columna llamada 'category'\n",
    "df_reseñas['category'] = df_reseñas['review_english'].apply(categorizar_reseñas)\n",
    "\n",
    "# Verificar el DataFrame resultante\n",
    "df_reseñas.head()\n",
    "\n"
   ]
  },
  {
   "cell_type": "code",
   "execution_count": 18,
   "metadata": {},
   "outputs": [
    {
     "name": "stdout",
     "output_type": "stream",
     "text": [
      "Valores diferentes de 'category' y su cantidad:\n",
      "Recomendación por buen servicio del conductor: 227\n",
      "Recomendacion General: 165\n",
      "Recomendación por buen estado del vehículo: 37\n",
      "Queja por conductor: 21\n"
     ]
    }
   ],
   "source": [
    "# Calcular la cantidad de cada valor único en la columna 'category'\n",
    "conteo_categorias = df_reseñas['category'].value_counts()\n",
    "\n",
    "# Imprimir los valores diferentes de 'category' y su cantidad\n",
    "print(\"Valores diferentes de 'category' y su cantidad:\")\n",
    "for categoria, cantidad in conteo_categorias.items():\n",
    "    print(f\"{categoria}: {cantidad}\")\n"
   ]
  },
  {
   "cell_type": "markdown",
   "metadata": {},
   "source": [
    "Podemos observar que la base de datos esta desbalanceada, lo que es probable afecte la precision del modelo. De todas formas vamos a probar el modelo con la data de origen y luego con alguna tecnica para optimizarlo, para compararlos.\n",
    "Por otro lado el modelo se va a quedar con las 4 categorias que se han detectado, dejando la posibilidad de sumar nuevas categorías a medida que se alimente la base de datos."
   ]
  },
  {
   "cell_type": "markdown",
   "metadata": {},
   "source": [
    "## Importo la libreria necesaria para aplicar el modelo de ML DecisionTreeClassifier"
   ]
  },
  {
   "cell_type": "markdown",
   "metadata": {},
   "source": [
    "#### Antes probe con otros modelos, pero este es el que mejor resultado arrojo, tratandose de un caso de small data"
   ]
  },
  {
   "cell_type": "code",
   "execution_count": 16,
   "metadata": {},
   "outputs": [
    {
     "name": "stderr",
     "output_type": "stream",
     "text": [
      "[nltk_data] Downloading package stopwords to\n",
      "[nltk_data]     C:\\Users\\HP\\AppData\\Roaming\\nltk_data...\n",
      "[nltk_data]   Package stopwords is already up-to-date!\n"
     ]
    }
   ],
   "source": [
    "import nltk\n",
    "from nltk.corpus import stopwords\n",
    "from nltk.sentiment.vader import SentimentIntensityAnalyzer\n",
    "import re\n",
    "\n",
    "# Descargar recursos de NLTK\n",
    "nltk.download('stopwords')\n",
    "\n",
    "from sklearn.tree import DecisionTreeClassifier\n",
    "from sklearn.feature_extraction.text import TfidfVectorizer\n",
    "from sklearn.model_selection import train_test_split\n",
    "from sklearn.metrics import classification_report"
   ]
  },
  {
   "cell_type": "markdown",
   "metadata": {},
   "source": [
    "#### Preprocesamiento de datos:Tokenizacion, Stop Words, Vectorizacion\n",
    "\n",
    "##### Eliminamos palabras de paro en inglés del texto de las reseñas.\n",
    "##### Convertimos el texto de las reseñas en una representación numérica utilizando el esquema TF-IDF.\n",
    "##### En el código proporcionado se utiliza el TfidfVectorizer de scikit-learn para convertir el texto de las reseñas en una matriz de características TF-IDF.\n",
    "##### El TfidfVectorizer realiza la tokenización automáticamente como parte de su proceso interno."
   ]
  },
  {
   "cell_type": "code",
   "execution_count": 17,
   "metadata": {},
   "outputs": [
    {
     "name": "stdout",
     "output_type": "stream",
     "text": [
      "                                               precision    recall  f1-score   support\n",
      "\n",
      "                          Queja por conductor       1.00      0.67      0.80         3\n",
      "                        Recomendacion General       0.77      0.79      0.78        29\n",
      "   Recomendación por buen estado del vehículo       0.67      0.67      0.67         6\n",
      "Recomendación por buen servicio del conductor       0.87      0.87      0.87        52\n",
      "\n",
      "                                     accuracy                           0.82        90\n",
      "                                    macro avg       0.82      0.75      0.78        90\n",
      "                                 weighted avg       0.82      0.82      0.82        90\n",
      "\n"
     ]
    }
   ],
   "source": [
    "# Preprocesamiento de texto y vectorización\n",
    "vectorizer = TfidfVectorizer(stop_words='english')\n",
    "X = vectorizer.fit_transform(df_reseñas['review_english'])\n",
    "y = df_reseñas['category']\n",
    "\n",
    "# División de datos en conjuntos de entrenamiento y prueba\n",
    "X_train, X_test, y_train, y_test = train_test_split(X, y, test_size=0.2, random_state=42)\n",
    "\n",
    "# Entrenamiento del modelo de árbol de decisión\n",
    "tree_classifier = DecisionTreeClassifier(random_state=42)\n",
    "tree_classifier.fit(X_train, y_train)\n",
    "\n",
    "# Predicciones sobre el conjunto de prueba\n",
    "y_pred = tree_classifier.predict(X_test)\n",
    "\n",
    "# Evaluación del modelo\n",
    "print(classification_report(y_test, y_pred))"
   ]
  },
  {
   "cell_type": "markdown",
   "metadata": {},
   "source": [
    "#### Como la base de datos esta desbalanceada, realizaré Oversampling para aumentar las categorias minoritarias, usando  SMOTE (Synthetic Minority Oversampling Technique)."
   ]
  },
  {
   "cell_type": "code",
   "execution_count": 25,
   "metadata": {},
   "outputs": [
    {
     "name": "stdout",
     "output_type": "stream",
     "text": [
      "Collecting imbalanced-learn\n",
      "  Downloading imbalanced_learn-0.12.0-py3-none-any.whl.metadata (8.2 kB)\n",
      "Requirement already satisfied: numpy>=1.17.3 in c:\\users\\hp\\appdata\\local\\programs\\python\\python311\\lib\\site-packages (from imbalanced-learn) (1.25.1)\n",
      "Requirement already satisfied: scipy>=1.5.0 in c:\\users\\hp\\appdata\\local\\programs\\python\\python311\\lib\\site-packages (from imbalanced-learn) (1.11.1)\n",
      "Requirement already satisfied: scikit-learn>=1.0.2 in c:\\users\\hp\\appdata\\local\\programs\\python\\python311\\lib\\site-packages (from imbalanced-learn) (1.3.2)\n",
      "Requirement already satisfied: joblib>=1.1.1 in c:\\users\\hp\\appdata\\local\\programs\\python\\python311\\lib\\site-packages (from imbalanced-learn) (1.3.2)\n",
      "Requirement already satisfied: threadpoolctl>=2.0.0 in c:\\users\\hp\\appdata\\local\\programs\\python\\python311\\lib\\site-packages (from imbalanced-learn) (3.2.0)\n",
      "Downloading imbalanced_learn-0.12.0-py3-none-any.whl (257 kB)\n",
      "   ---------------------------------------- 0.0/257.7 kB ? eta -:--:--\n",
      "   --------- ------------------------------ 61.4/257.7 kB 1.1 MB/s eta 0:00:01\n",
      "   ---------------------------------------  256.0/257.7 kB 2.6 MB/s eta 0:00:01\n",
      "   ---------------------------------------- 257.7/257.7 kB 2.2 MB/s eta 0:00:00\n",
      "Installing collected packages: imbalanced-learn\n",
      "Successfully installed imbalanced-learn-0.12.0\n",
      "Note: you may need to restart the kernel to use updated packages.\n"
     ]
    }
   ],
   "source": [
    "pip install imbalanced-learn"
   ]
  },
  {
   "cell_type": "code",
   "execution_count": 26,
   "metadata": {},
   "outputs": [
    {
     "name": "stdout",
     "output_type": "stream",
     "text": [
      "                                               precision    recall  f1-score   support\n",
      "\n",
      "                          Queja por conductor       0.95      0.97      0.96        39\n",
      "                        Recomendacion General       0.89      0.94      0.92        52\n",
      "   Recomendación por buen estado del vehículo       0.97      1.00      0.99        37\n",
      "Recomendación por buen servicio del conductor       0.94      0.85      0.89        54\n",
      "\n",
      "                                     accuracy                           0.93       182\n",
      "                                    macro avg       0.94      0.94      0.94       182\n",
      "                                 weighted avg       0.93      0.93      0.93       182\n",
      "\n"
     ]
    }
   ],
   "source": [
    "from imblearn.over_sampling import SMOTE\n",
    "\n",
    "# Preprocesamiento de texto y vectorización\n",
    "vectorizer = TfidfVectorizer(stop_words='english')\n",
    "X = vectorizer.fit_transform(df_reseñas['review_english'])\n",
    "y = df_reseñas['category']\n",
    "\n",
    "# Aplicación de SMOTE para balancear la base de datos\n",
    "smote = SMOTE(random_state=42)\n",
    "X_resampled, y_resampled = smote.fit_resample(X, y)\n",
    "\n",
    "# División de datos en conjuntos de entrenamiento y prueba\n",
    "X_train, X_test, y_train, y_test = train_test_split(X_resampled, y_resampled, test_size=0.2, random_state=42)\n",
    "\n",
    "# Entrenamiento del modelo de árbol de decisión\n",
    "tree_classifier = DecisionTreeClassifier(random_state=42)\n",
    "tree_classifier.fit(X_train, y_train)\n",
    "\n",
    "# Predicciones sobre el conjunto de prueba\n",
    "y_pred = tree_classifier.predict(X_test)\n",
    "\n",
    "# Evaluación del modelo\n",
    "print(classification_report(y_test, y_pred))\n"
   ]
  },
  {
   "cell_type": "code",
   "execution_count": 29,
   "metadata": {},
   "outputs": [
    {
     "name": "stdout",
     "output_type": "stream",
     "text": [
      "Predicciones para nuevas reseñas:\n",
      "The taxi driver was very friendly and arrived on time. Excellent service! -> Recomendación por buen servicio del conductor\n",
      "I highly recommend this service. The car was clean. -> Recomendación por buen estado del vehículo\n",
      "The driver was reckless and arrived late. I would not use this service again. -> Queja por conductor\n"
     ]
    }
   ],
   "source": [
    "# Uso del modelo para predecir nuevas reseñas\n",
    "new_reviews = [\n",
    "    \"The taxi driver was very friendly and arrived on time. Excellent service!\",\n",
    "    \"I highly recommend this service. The car was clean.\",\n",
    "    \"The driver was reckless and arrived late. I would not use this service again.\"\n",
    "]\n",
    "\n",
    "# Vectorización de las nuevas reseñas utilizando el vectorizador\n",
    "X_new = vectorizer.transform(new_reviews)\n",
    "\n",
    "# Predicciones utilizando el modelo de árbol de decisión\n",
    "predictions = tree_classifier.predict(X_new)\n",
    "\n",
    "# Imprimir las predicciones para las nuevas reseñas\n",
    "print(\"Predicciones para nuevas reseñas:\")\n",
    "for review, prediction in zip(new_reviews, predictions):\n",
    "    print(f\"{review} -> {prediction}\")\n"
   ]
  },
  {
   "cell_type": "markdown",
   "metadata": {},
   "source": [
    "# También aplicamos Analisis de Sentimiento a las reseñas"
   ]
  },
  {
   "cell_type": "code",
   "execution_count": 30,
   "metadata": {},
   "outputs": [
    {
     "name": "stderr",
     "output_type": "stream",
     "text": [
      "[nltk_data] Downloading package vader_lexicon to\n",
      "[nltk_data]     C:\\Users\\HP\\AppData\\Roaming\\nltk_data...\n",
      "[nltk_data]   Package vader_lexicon is already up-to-date!\n"
     ]
    }
   ],
   "source": [
    "from nltk.sentiment import SentimentIntensityAnalyzer\n",
    "\n",
    "# Descargo el léxico necesario para SentimentIntensityAnalyzer\n",
    "nltk.download('vader_lexicon')\n",
    "\n",
    "# Creo una instancia de SentimentIntensityAnalyzer, que se utilizará para calcular la puntuación de polaridad de los textos.\n",
    "sia = SentimentIntensityAnalyzer()\n",
    "\n",
    "# Función para asignar etiquetas de sentimiento\n",
    "def etiquetar_sentimiento(texto):\n",
    "    if pd.notnull(texto):  # primero verifica si el valor no es nulo\n",
    "        score = sia.polarity_scores(texto)['compound']\n",
    "        #sia es la instancia creada al principio \n",
    "        #sia.polarity_scores(texto): Llama al método polarity_scores de SentimentIntensityAnalyzer y le pasa el texto como argumento. \n",
    "        # Este método devuelve un diccionario con varias puntuaciones, incluyendo la puntuación de compuesto.\n",
    "        #['compound']: Accede al valor correspondiente a la clave 'compound' en el diccionario devuelto por polarity_scores. \n",
    "        # el valor obtenido es asignado a la variable score\n",
    "\n",
    "\n",
    "\n",
    "        # Asigno etiquetas (0, 1, 2) a la puntuación de compuesto (score)\n",
    "        if score >= 0.05:\n",
    "            return 2  # Sentimiento positivo\n",
    "        elif -0.05 < score < 0.05:\n",
    "            return 1  # Sentimiento neutro\n",
    "        else:\n",
    "            return 0  # Sentimiento negativo\n",
    "    else:\n",
    "        return 1  # cuando es nulo retorna 1\n",
    "    \n",
    "# Aplico la función a la columna 'review_english' y creo con los resultados una nueva columna 'sentimiento'\n",
    "df_reseñas['sentiment'] = df_reseñas['review_english'].apply(etiquetar_sentimiento)"
   ]
  },
  {
   "cell_type": "code",
   "execution_count": 32,
   "metadata": {},
   "outputs": [],
   "source": [
    "#guardo el dataset con las columnas category y sentiment\n",
    "\n",
    "df_reseñas.to_csv('reviews.csv',index=False)"
   ]
  },
  {
   "cell_type": "code",
   "execution_count": 2,
   "metadata": {},
   "outputs": [
    {
     "data": {
      "text/html": [
       "<div>\n",
       "<style scoped>\n",
       "    .dataframe tbody tr th:only-of-type {\n",
       "        vertical-align: middle;\n",
       "    }\n",
       "\n",
       "    .dataframe tbody tr th {\n",
       "        vertical-align: top;\n",
       "    }\n",
       "\n",
       "    .dataframe thead th {\n",
       "        text-align: right;\n",
       "    }\n",
       "</style>\n",
       "<table border=\"1\" class=\"dataframe\">\n",
       "  <thead>\n",
       "    <tr style=\"text-align: right;\">\n",
       "      <th></th>\n",
       "      <th>Review Text</th>\n",
       "      <th>review_english</th>\n",
       "      <th>User Name</th>\n",
       "      <th>category</th>\n",
       "      <th>sentiment</th>\n",
       "    </tr>\n",
       "  </thead>\n",
       "  <tbody>\n",
       "    <tr>\n",
       "      <th>0</th>\n",
       "      <td>I cannot say enough good things about this car...</td>\n",
       "      <td>I cannot say enough good things about this car...</td>\n",
       "      <td>Julia S</td>\n",
       "      <td>Recomendación por buen servicio del conductor</td>\n",
       "      <td>2</td>\n",
       "    </tr>\n",
       "    <tr>\n",
       "      <th>1</th>\n",
       "      <td>Great service and easy to organize.  Received ...</td>\n",
       "      <td>Great service and easy to organize.  Received ...</td>\n",
       "      <td>Lilitreamont</td>\n",
       "      <td>Recomendación por buen servicio del conductor</td>\n",
       "      <td>2</td>\n",
       "    </tr>\n",
       "    <tr>\n",
       "      <th>2</th>\n",
       "      <td>We have used them 6 times this past year for m...</td>\n",
       "      <td>We have used them 6 times this past year for m...</td>\n",
       "      <td>BobnLaurie</td>\n",
       "      <td>Recomendacion General</td>\n",
       "      <td>2</td>\n",
       "    </tr>\n",
       "    <tr>\n",
       "      <th>3</th>\n",
       "      <td>Great, Professional Drivers.  They were early ...</td>\n",
       "      <td>Great, Professional Drivers.  They were early ...</td>\n",
       "      <td>mld661</td>\n",
       "      <td>Recomendación por buen servicio del conductor</td>\n",
       "      <td>2</td>\n",
       "    </tr>\n",
       "    <tr>\n",
       "      <th>4</th>\n",
       "      <td>Great communication and service. Someone answe...</td>\n",
       "      <td>Great communication and service. Someone answe...</td>\n",
       "      <td>Audrey S</td>\n",
       "      <td>Recomendación por buen servicio del conductor</td>\n",
       "      <td>2</td>\n",
       "    </tr>\n",
       "    <tr>\n",
       "      <th>...</th>\n",
       "      <td>...</td>\n",
       "      <td>...</td>\n",
       "      <td>...</td>\n",
       "      <td>...</td>\n",
       "      <td>...</td>\n",
       "    </tr>\n",
       "    <tr>\n",
       "      <th>445</th>\n",
       "      <td>Excelente todo; la atencion pre-viaje - el ase...</td>\n",
       "      <td>Excellent everything;Pre -Viaje ATTENTION - Th...</td>\n",
       "      <td>Manuel P</td>\n",
       "      <td>Recomendación por buen servicio del conductor</td>\n",
       "      <td>2</td>\n",
       "    </tr>\n",
       "    <tr>\n",
       "      <th>446</th>\n",
       "      <td>Puntual, excelente servicio y atención en todo...</td>\n",
       "      <td>Punctual, excellent service and attention in a...</td>\n",
       "      <td>Valeria345</td>\n",
       "      <td>Recomendación por buen servicio del conductor</td>\n",
       "      <td>2</td>\n",
       "    </tr>\n",
       "    <tr>\n",
       "      <th>447</th>\n",
       "      <td>La mejor manera de llegar a Nueva York. El tra...</td>\n",
       "      <td>The best way to get to New York.The journey wa...</td>\n",
       "      <td>Lizardo P</td>\n",
       "      <td>Recomendación por buen servicio del conductor</td>\n",
       "      <td>2</td>\n",
       "    </tr>\n",
       "    <tr>\n",
       "      <th>448</th>\n",
       "      <td>Re linda energía, eficaz, muy atentos y puntua...</td>\n",
       "      <td>Re beautiful energy, effective, very attentive...</td>\n",
       "      <td>Emiliano V</td>\n",
       "      <td>Recomendación por buen servicio del conductor</td>\n",
       "      <td>2</td>\n",
       "    </tr>\n",
       "    <tr>\n",
       "      <th>449</th>\n",
       "      <td>Elegimos Relier por intermedio de una amiga y ...</td>\n",
       "      <td>We chose Relier through a friend and we came f...</td>\n",
       "      <td>pauruizdiaz</td>\n",
       "      <td>Recomendación por buen servicio del conductor</td>\n",
       "      <td>2</td>\n",
       "    </tr>\n",
       "  </tbody>\n",
       "</table>\n",
       "<p>450 rows × 5 columns</p>\n",
       "</div>"
      ],
      "text/plain": [
       "                                           Review Text  \\\n",
       "0    I cannot say enough good things about this car...   \n",
       "1    Great service and easy to organize.  Received ...   \n",
       "2    We have used them 6 times this past year for m...   \n",
       "3    Great, Professional Drivers.  They were early ...   \n",
       "4    Great communication and service. Someone answe...   \n",
       "..                                                 ...   \n",
       "445  Excelente todo; la atencion pre-viaje - el ase...   \n",
       "446  Puntual, excelente servicio y atención en todo...   \n",
       "447  La mejor manera de llegar a Nueva York. El tra...   \n",
       "448  Re linda energía, eficaz, muy atentos y puntua...   \n",
       "449  Elegimos Relier por intermedio de una amiga y ...   \n",
       "\n",
       "                                        review_english     User Name  \\\n",
       "0    I cannot say enough good things about this car...       Julia S   \n",
       "1    Great service and easy to organize.  Received ...  Lilitreamont   \n",
       "2    We have used them 6 times this past year for m...    BobnLaurie   \n",
       "3    Great, Professional Drivers.  They were early ...        mld661   \n",
       "4    Great communication and service. Someone answe...      Audrey S   \n",
       "..                                                 ...           ...   \n",
       "445  Excellent everything;Pre -Viaje ATTENTION - Th...      Manuel P   \n",
       "446  Punctual, excellent service and attention in a...    Valeria345   \n",
       "447  The best way to get to New York.The journey wa...     Lizardo P   \n",
       "448  Re beautiful energy, effective, very attentive...    Emiliano V   \n",
       "449  We chose Relier through a friend and we came f...   pauruizdiaz   \n",
       "\n",
       "                                          category  sentiment  \n",
       "0    Recomendación por buen servicio del conductor          2  \n",
       "1    Recomendación por buen servicio del conductor          2  \n",
       "2                            Recomendacion General          2  \n",
       "3    Recomendación por buen servicio del conductor          2  \n",
       "4    Recomendación por buen servicio del conductor          2  \n",
       "..                                             ...        ...  \n",
       "445  Recomendación por buen servicio del conductor          2  \n",
       "446  Recomendación por buen servicio del conductor          2  \n",
       "447  Recomendación por buen servicio del conductor          2  \n",
       "448  Recomendación por buen servicio del conductor          2  \n",
       "449  Recomendación por buen servicio del conductor          2  \n",
       "\n",
       "[450 rows x 5 columns]"
      ]
     },
     "execution_count": 2,
     "metadata": {},
     "output_type": "execute_result"
    }
   ],
   "source": [
    "# Lee el dataset\n",
    "df_reseñas = pd.read_csv('reviews.csv')\n",
    "\n",
    "df_reseñas"
   ]
  },
  {
   "cell_type": "markdown",
   "metadata": {},
   "source": [
    "## EDA de las reseñas"
   ]
  },
  {
   "cell_type": "code",
   "execution_count": 3,
   "metadata": {},
   "outputs": [
    {
     "data": {
      "image/png": "[encoded data removed]",
      "text/plain": [
       "<Figure size 800x800 with 1 Axes>"
      ]
     },
     "metadata": {},
     "output_type": "display_data"
    }
   ],
   "source": [
    "\n",
    "# Mapear los valores de la columna 'sentiment' a etiquetas deseadas\n",
    "etiquetas_sentimiento = {2: 'Positivo', 1: 'Neutro', 0: 'Negativo'}\n",
    "\n",
    "# Reemplazar los valores en la columna 'sentiment' con las etiquetas deseadas\n",
    "df_reseñas['sentiment_etiqueta'] = df_reseñas['sentiment'].map(etiquetas_sentimiento)\n",
    "\n",
    "# Define los colores\n",
    "colores = ['#66bb6a', '#1c5739', '#198c89']\n",
    "\n",
    "# Calcular la cantidad de cada valor único en la columna 'sentiment'\n",
    "conteo_sentimientos = df_reseñas['sentiment_etiqueta'].value_counts()\n",
    "\n",
    "# Crear el gráfico de torta\n",
    "plt.figure(figsize=(8, 8))\n",
    "plt.pie(conteo_sentimientos, labels=conteo_sentimientos.index, autopct='%1.1f%%', startangle=140, colors= colores)\n",
    "plt.title('Distribución de Sentimientos en las Reseñas')\n",
    "plt.axis('equal')\n",
    "\n",
    "# Guardar la imagen\n",
    "plt.savefig('reseñas_sentimientos.png')\n",
    "\n",
    "# Mostrar el gráfico\n",
    "plt.show()\n",
    "\n"
   ]
  },
  {
   "cell_type": "code",
   "execution_count": 4,
   "metadata": {},
   "outputs": [
    {
     "data": {
      "image/png": "[encoded data removed]",
      "text/plain": [
       "<Figure size 800x800 with 1 Axes>"
      ]
     },
     "metadata": {},
     "output_type": "display_data"
    }
   ],
   "source": [
    "# Calcular el recuento de valores únicos en la columna 'category'\n",
    "conteo_categorias = df_reseñas['category'].value_counts()\n",
    "\n",
    "# Etiquetas y títulos personalizados para las categorías\n",
    "etiquetas = ['Recomendación General', \n",
    "             'Recomendación por buen servicio del conductor', \n",
    "             'Recomendación por buen estado del vehículo', \n",
    "             'Queja por conductor'\n",
    "             ]\n",
    "# Define los colores\n",
    "colores = ['#66bb6a','#1c5739', '#8cfa91','#198c89']\n",
    "# Crear el gráfico de torta\n",
    "plt.figure(figsize=(8, 8))\n",
    "# Dibujar la torta con porcentajes pero sin etiquetas\n",
    "porciento, labels, _ = plt.pie(conteo_categorias, autopct='%1.1f%%', startangle=140, colors=colores)\n",
    "# Agregar las etiquetas al costado\n",
    "plt.legend(porciento, etiquetas, loc=\"best\")\n",
    "# Título del gráfico\n",
    "plt.title('Distribución de Categorías')\n",
    "\n",
    "# Guardar la imagen\n",
    "plt.savefig('reseñas_categorias.png')\n",
    "\n",
    "# Mostrar el gráfico\n",
    "plt.show()\n",
    "\n"
   ]
  }
 ],
 "metadata": {
  "kernelspec": {
   "display_name": "Python 3",
   "language": "python",
   "name": "python3"
  },
  "language_info": {
   "codemirror_mode": {
    "name": "ipython",
    "version": 3
   },
   "file_extension": ".py",
   "mimetype": "text/x-python",
   "name": "python",
   "nbconvert_exporter": "python",
   "pygments_lexer": "ipython3",
   "version": "3.11.1"
  }
 },
 "nbformat": 4,
 "nbformat_minor": 2
}
