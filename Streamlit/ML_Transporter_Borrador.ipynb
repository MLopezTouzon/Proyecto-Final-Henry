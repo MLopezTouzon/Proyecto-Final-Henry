{
 "cells": [
  {
   "cell_type": "code",
   "execution_count": 1,
   "metadata": {},
   "outputs": [],
   "source": [
    "import pandas as pd\n",
    "import numpy as np\n",
    "import matplotlib.pyplot as plt\n",
    "import seaborn as sns\n"
   ]
  },
  {
   "cell_type": "code",
   "execution_count": 7,
   "metadata": {},
   "outputs": [
    {
     "data": {
      "text/html": [
       "<div>\n",
       "<style scoped>\n",
       "    .dataframe tbody tr th:only-of-type {\n",
       "        vertical-align: middle;\n",
       "    }\n",
       "\n",
       "    .dataframe tbody tr th {\n",
       "        vertical-align: top;\n",
       "    }\n",
       "\n",
       "    .dataframe thead th {\n",
       "        text-align: right;\n",
       "    }\n",
       "</style>\n",
       "<table border=\"1\" class=\"dataframe\">\n",
       "  <thead>\n",
       "    <tr style=\"text-align: right;\">\n",
       "      <th></th>\n",
       "      <th>Review Text</th>\n",
       "      <th>review_english</th>\n",
       "      <th>User Name</th>\n",
       "      <th>category</th>\n",
       "    </tr>\n",
       "  </thead>\n",
       "  <tbody>\n",
       "    <tr>\n",
       "      <th>0</th>\n",
       "      <td>I cannot say enough good things about this car...</td>\n",
       "      <td>I cannot say enough good things about this car...</td>\n",
       "      <td>Julia S</td>\n",
       "      <td>Recomendación por buen servicio del conductor</td>\n",
       "    </tr>\n",
       "    <tr>\n",
       "      <th>1</th>\n",
       "      <td>Great service and easy to organize.  Received ...</td>\n",
       "      <td>Great service and easy to organize.  Received ...</td>\n",
       "      <td>Lilitreamont</td>\n",
       "      <td>Recomendación por buen servicio del conductor</td>\n",
       "    </tr>\n",
       "    <tr>\n",
       "      <th>2</th>\n",
       "      <td>We have used them 6 times this past year for m...</td>\n",
       "      <td>We have used them 6 times this past year for m...</td>\n",
       "      <td>BobnLaurie</td>\n",
       "      <td>Otro</td>\n",
       "    </tr>\n",
       "    <tr>\n",
       "      <th>3</th>\n",
       "      <td>Great, Professional Drivers.  They were early ...</td>\n",
       "      <td>Great, Professional Drivers.  They were early ...</td>\n",
       "      <td>mld661</td>\n",
       "      <td>Recomendación por buen servicio del conductor</td>\n",
       "    </tr>\n",
       "    <tr>\n",
       "      <th>4</th>\n",
       "      <td>Great communication and service. Someone answe...</td>\n",
       "      <td>Great communication and service. Someone answe...</td>\n",
       "      <td>Audrey S</td>\n",
       "      <td>Recomendación por buen servicio del conductor</td>\n",
       "    </tr>\n",
       "  </tbody>\n",
       "</table>\n",
       "</div>"
      ],
      "text/plain": [
       "                                         Review Text  \\\n",
       "0  I cannot say enough good things about this car...   \n",
       "1  Great service and easy to organize.  Received ...   \n",
       "2  We have used them 6 times this past year for m...   \n",
       "3  Great, Professional Drivers.  They were early ...   \n",
       "4  Great communication and service. Someone answe...   \n",
       "\n",
       "                                      review_english     User Name  \\\n",
       "0  I cannot say enough good things about this car...       Julia S   \n",
       "1  Great service and easy to organize.  Received ...  Lilitreamont   \n",
       "2  We have used them 6 times this past year for m...    BobnLaurie   \n",
       "3  Great, Professional Drivers.  They were early ...        mld661   \n",
       "4  Great communication and service. Someone answe...      Audrey S   \n",
       "\n",
       "                                        category  \n",
       "0  Recomendación por buen servicio del conductor  \n",
       "1  Recomendación por buen servicio del conductor  \n",
       "2                                           Otro  \n",
       "3  Recomendación por buen servicio del conductor  \n",
       "4  Recomendación por buen servicio del conductor  "
      ]
     },
     "execution_count": 7,
     "metadata": {},
     "output_type": "execute_result"
    }
   ],
   "source": [
    "#Aqui primero lei varias reseñas para poder elegir las categorias\n",
    "\n",
    "# Definir la función para categorizar reseñas\n",
    "def categorizar_reseñas(review_text):\n",
    "    # Convertir el texto a minúsculas para facilitar la comparación\n",
    "    review_text = review_text.lower()\n",
    "\n",
    "    # Categoría 1: Recomendación por buen servicio del conductor\n",
    "    if any(word in review_text for word in ['friendly', 'prompt', 'arrived on time', 'professional', 'informed',\n",
    "                                             'attentive', 'excellence', 'attention', 'arrived early', 'organized',\n",
    "                                               'helpful', 'support', 'competent', 'serious', 'punctual',\n",
    "                                                 'provide fast', 'arrive on time']):\n",
    "        return \"Recomendación por buen servicio del conductor\"\n",
    "    \n",
    "    # Categoría 2: Recomendación por buen estado del vehículo\n",
    "    elif any(word in review_text for word in ['clean', 'immaculate', 'maintained', 'impeccable', 'quiet', \n",
    "                                              'well maintained']):\n",
    "        return \"Recomendación por buen estado del vehículo\"\n",
    "    \n",
    "    # Categoría 3: Queja por conductor\n",
    "    elif any(word in review_text for word in ['late', 'had a bad attitude', 'thing were wrong', 'reckless',\n",
    "                                               'Unprofessional', 'not punctual']):\n",
    "        return \"Queja por conductor\"\n",
    "    \n",
    "    # Categoría 4: Queja por vehículo\n",
    "    elif any(word in review_text for word in ['dirty', 'poor condition', 'noisy', 'bad condition', 'uncomfortable']):\n",
    "        return \"Queja por vehículo\"\n",
    "    \n",
    "    # Si no se encuentra ninguna categoría específica, se devuelve \"Otro\"\n",
    "    else:\n",
    "        return \"Otro\"\n",
    "\n",
    "# Aplicar la función a la columna 'review_english' y crear una nueva columna llamada 'category'\n",
    "df_reseñas['category'] = df_reseñas['review_english'].apply(categorizar_reseñas)\n",
    "\n",
    "# Verificar el DataFrame resultante\n",
    "df_reseñas.head()\n",
    "\n"
   ]
  },
  {
   "cell_type": "code",
   "execution_count": 8,
   "metadata": {},
   "outputs": [
    {
     "name": "stderr",
     "output_type": "stream",
     "text": [
      "[nltk_data] Downloading package stopwords to\n",
      "[nltk_data]     C:\\Users\\HP\\AppData\\Roaming\\nltk_data...\n",
      "[nltk_data]   Package stopwords is already up-to-date!\n"
     ]
    },
    {
     "data": {
      "text/plain": [
       "True"
      ]
     },
     "execution_count": 8,
     "metadata": {},
     "output_type": "execute_result"
    }
   ],
   "source": [
    "import nltk\n",
    "from nltk.corpus import stopwords\n",
    "from sklearn.feature_extraction.text import TfidfVectorizer\n",
    "from sklearn.model_selection import train_test_split\n",
    "from sklearn.naive_bayes import MultinomialNB\n",
    "from sklearn.metrics import classification_report\n",
    "from nltk.sentiment.vader import SentimentIntensityAnalyzer\n",
    "import re\n",
    "# Descargar recursos de NLTK\n",
    "nltk.download('stopwords')\n"
   ]
  },
  {
   "cell_type": "code",
   "execution_count": null,
   "metadata": {},
   "outputs": [],
   "source": [
    "#Pruebo con arboles de decision "
   ]
  },
  {
   "cell_type": "code",
   "execution_count": 12,
   "metadata": {},
   "outputs": [],
   "source": [
    "from sklearn.tree import DecisionTreeClassifier\n",
    "from sklearn.feature_extraction.text import TfidfVectorizer\n",
    "from sklearn.model_selection import train_test_split\n",
    "from sklearn.metrics import classification_report"
   ]
  },
  {
   "cell_type": "code",
   "execution_count": 13,
   "metadata": {},
   "outputs": [
    {
     "name": "stdout",
     "output_type": "stream",
     "text": [
      "                                               precision    recall  f1-score   support\n",
      "\n",
      "                                         Otro       0.77      0.79      0.78        29\n",
      "                          Queja por conductor       1.00      0.67      0.80         3\n",
      "   Recomendación por buen estado del vehículo       0.67      0.67      0.67         6\n",
      "Recomendación por buen servicio del conductor       0.87      0.87      0.87        52\n",
      "\n",
      "                                     accuracy                           0.82        90\n",
      "                                    macro avg       0.82      0.75      0.78        90\n",
      "                                 weighted avg       0.82      0.82      0.82        90\n",
      "\n"
     ]
    }
   ],
   "source": [
    "\n",
    "# Preprocesamiento de texto y vectorización\n",
    "vectorizer = TfidfVectorizer(stop_words='english')\n",
    "X = vectorizer.fit_transform(df_reseñas['review_english'])\n",
    "y = df_reseñas['category']\n",
    "\n",
    "# División de datos en conjuntos de entrenamiento y prueba\n",
    "X_train, X_test, y_train, y_test = train_test_split(X, y, test_size=0.2, random_state=42)\n",
    "\n",
    "# Entrenamiento del modelo de árbol de decisión\n",
    "tree_classifier = DecisionTreeClassifier(random_state=42)\n",
    "tree_classifier.fit(X_train, y_train)\n",
    "\n",
    "# Predicciones sobre el conjunto de prueba\n",
    "y_pred = tree_classifier.predict(X_test)\n",
    "\n",
    "# Evaluación del modelo\n",
    "print(classification_report(y_test, y_pred))\n"
   ]
  },
  {
   "cell_type": "code",
   "execution_count": null,
   "metadata": {},
   "outputs": [],
   "source": [
    "\n",
    "\n",
    "# Uso del modelo para predecir nuevas reseñas\n",
    "new_reviews = [\n",
    "    \"The taxi driver was very friendly and arrived on time. Excellent service!\",\n",
    "    \"The vehicle was in poor condition and the driver was rude. Terrible experience.\",\n",
    "    \"I highly recommend this service. The car was clean and the driver was professional.\",\n",
    "    \"The driver was reckless and arrived late. I would not use this service again.\"\n",
    "]\n",
    "\n",
    "# Vectorización de las nuevas reseñas utilizando el vectorizador\n",
    "X_new = vectorizer.transform(new_reviews)\n",
    "\n",
    "# Predicciones utilizando el modelo de árbol de decisión\n",
    "predictions = tree_classifier.predict(X_new)\n",
    "\n",
    "# Imprimir las predicciones para las nuevas reseñas\n",
    "print(\"Predicciones para nuevas reseñas:\")\n",
    "for review, prediction in zip(new_reviews, predictions):\n",
    "    print(f\"{review} -> {prediction}\")\n"
   ]
  },
  {
   "cell_type": "markdown",
   "metadata": {},
   "source": [
    "# Analisis de Sentimiento"
   ]
  },
  {
   "cell_type": "code",
   "execution_count": 14,
   "metadata": {},
   "outputs": [
    {
     "name": "stderr",
     "output_type": "stream",
     "text": [
      "[nltk_data] Downloading package vader_lexicon to\n",
      "[nltk_data]     C:\\Users\\HP\\AppData\\Roaming\\nltk_data...\n",
      "[nltk_data]   Package vader_lexicon is already up-to-date!\n"
     ]
    }
   ],
   "source": [
    "from nltk.sentiment import SentimentIntensityAnalyzer\n",
    "\n",
    "# Descargo el léxico necesario para SentimentIntensityAnalyzer\n",
    "nltk.download('vader_lexicon')\n",
    "\n",
    "# Creo una instancia de SentimentIntensityAnalyzer, que se utilizará para calcular la puntuación de polaridad de los textos.\n",
    "sia = SentimentIntensityAnalyzer()\n",
    "\n",
    "# Función para asignar etiquetas de sentimiento\n",
    "def etiquetar_sentimiento(texto):\n",
    "    if pd.notnull(texto):  # primero verifica si el valor no es nulo\n",
    "        score = sia.polarity_scores(texto)['compound']\n",
    "        #sia es la instancia creada al principio \n",
    "        #sia.polarity_scores(texto): Llama al método polarity_scores de SentimentIntensityAnalyzer y le pasa el texto como argumento. \n",
    "        # Este método devuelve un diccionario con varias puntuaciones, incluyendo la puntuación de compuesto.\n",
    "        #['compound']: Accede al valor correspondiente a la clave 'compound' en el diccionario devuelto por polarity_scores. \n",
    "        # el valor obtenido es asignado a la variable score\n",
    "\n",
    "\n",
    "\n",
    "        # Asigno etiquetas (0, 1, 2) a la puntuación de compuesto (score)\n",
    "        if score >= 0.05:\n",
    "            return 2  # Sentimiento positivo\n",
    "        elif -0.05 < score < 0.05:\n",
    "            return 1  # Sentimiento neutro\n",
    "        else:\n",
    "            return 0  # Sentimiento negativo\n",
    "    else:\n",
    "        return 1  # cuando es nulo retorna 1\n",
    "    \n",
    "# Aplico la función a la columna 'review_english' y creo con los resultados una nueva columna 'sentimiento'\n",
    "df_reseñas['sentimiento'] = df_reseñas['review_english'].apply(etiquetar_sentimiento)"
   ]
  },
  {
   "cell_type": "code",
   "execution_count": 16,
   "metadata": {},
   "outputs": [],
   "source": [
    "#guardo el dataset con las columnas category y sentimiento\n",
    "\n",
    "df_reseñas.to_csv('reviews.csv',index=False)"
   ]
  }
 ],
 "metadata": {
  "kernelspec": {
   "display_name": "Python 3",
   "language": "python",
   "name": "python3"
  },
  "language_info": {
   "codemirror_mode": {
    "name": "ipython",
    "version": 3
   },
   "file_extension": ".py",
   "mimetype": "text/x-python",
   "name": "python",
   "nbconvert_exporter": "python",
   "pygments_lexer": "ipython3",
   "version": "3.11.1"
  }
 },
 "nbformat": 4,
 "nbformat_minor": 2
}
